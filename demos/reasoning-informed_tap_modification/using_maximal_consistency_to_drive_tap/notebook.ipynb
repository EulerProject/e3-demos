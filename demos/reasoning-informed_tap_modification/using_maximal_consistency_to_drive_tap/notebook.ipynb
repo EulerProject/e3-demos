{
 "cells": [
  {
   "cell_type": "code",
   "execution_count": 1,
   "metadata": {
    "collapsed": false
   },
   "outputs": [
    {
     "data": {
      "text/plain": [
       "Tap: demo_birds\n"
      ]
     },
     "execution_count": 1,
     "metadata": {},
     "output_type": "execute_result"
    }
   ],
   "source": [
    "use tap demo_birds"
   ]
  },
  {
   "cell_type": "code",
   "execution_count": 1,
   "metadata": {
    "collapsed": false
   },
   "outputs": [
    {
     "data": {
      "text/plain": [
       "Coverage:True\n",
       "Sibling Disjontness:True\n",
       "Regions:mnpw\n",
       "\n",
       "taxonomy 2015 Prum\n",
       "(Aves Gall_Neoa_Clade Palaeognathae)\n",
       "(Gall_Neoa_Clade Galloanserae Neoaves)\n",
       "\n",
       "taxonomy 2014 Jarvis\n",
       "(Aves Neognathae Paleognathae)\n",
       "(Paleognathae Struthioniformes Tinamiformes)\n",
       "\n",
       "articulation\n",
       "1. [2015.Gall_Neoa_Clade equals 2014.Neognathae]\n",
       "2. [2015.Galloanserae equals 2014.Struthioniformes]\n",
       "3. [2015.Neoaves equals 2014.Tinamiformes]\n",
       "4. [2015.Aves is_included_in 2014.Aves]\n",
       "5. [2015.Palaeognathae is_included_in 2014.Paleognathae]\n"
      ]
     },
     "execution_count": 1,
     "metadata": {},
     "output_type": "execute_result"
    }
   ],
   "source": [
    "print tap"
   ]
  },
  {
   "cell_type": "code",
   "execution_count": 1,
   "metadata": {
    "collapsed": false
   },
   "outputs": [
    {
     "data": {
      "text/plain": [
       "1. Set\n",
       "2015.Aves is_included_in 2014.Aves\n",
       "2015.Neoaves equals 2014.Tinamiformes\n",
       "2015.Galloanserae equals 2014.Struthioniformes\n",
       "\n",
       "2. Set\n",
       "2015.Aves is_included_in 2014.Aves\n",
       "2015.Palaeognathae is_included_in 2014.Paleognathae\n",
       "2015.Gall_Neoa_Clade equals 2014.Neognathae\n",
       "\n",
       "3. Set\n",
       "2015.Aves is_included_in 2014.Aves\n",
       "2015.Palaeognathae is_included_in 2014.Paleognathae\n",
       "2015.Galloanserae equals 2014.Struthioniformes\n",
       "\n",
       "4. Set\n",
       "2015.Aves is_included_in 2014.Aves\n",
       "2015.Palaeognathae is_included_in 2014.Paleognathae\n",
       "2015.Neoaves equals 2014.Tinamiformes\n"
      ]
     },
     "execution_count": 1,
     "metadata": {},
     "output_type": "execute_result"
    }
   ],
   "source": [
    "print maximal consistency"
   ]
  },
  {
   "cell_type": "code",
   "execution_count": 4,
   "metadata": {
    "collapsed": false
   },
   "outputs": [
    {
     "data": {
      "text/plain": [
       "Tap: gracious_elion"
      ]
     },
     "execution_count": 4,
     "metadata": {},
     "output_type": "execute_result"
    }
   ],
   "source": [
    "use maximal consistency 3"
   ]
  },
  {
   "cell_type": "code",
   "execution_count": 4,
   "metadata": {
    "collapsed": false
   },
   "outputs": [
    {
     "data": {
      "text/plain": [
       "Coverage:True\n",
       "Sibling Disjontness:True\n",
       "Regions:mnpw\n",
       "\n",
       "taxonomy 2015 Prum\n",
       "(Aves Gall_Neoa_Clade Palaeognathae)\n",
       "(Gall_Neoa_Clade Galloanserae Neoaves)\n",
       "\n",
       "taxonomy 2014 Jarvis\n",
       "(Aves Neognathae Paleognathae)\n",
       "(Paleognathae Struthioniformes Tinamiformes)\n",
       "\n",
       "articulation\n",
       "1. [2015.Galloanserae equals 2014.Struthioniformes]\n",
       "2. [2015.Aves is_included_in 2014.Aves]\n",
       "3. [2015.Palaeognathae is_included_in 2014.Paleognathae]\n"
      ]
     },
     "execution_count": 4,
     "metadata": {},
     "output_type": "execute_result"
    }
   ],
   "source": [
    "print tap"
   ]
  }
 ],
 "metadata": {
  "kernelspec": {
   "display_name": "e3",
   "language": "e3",
   "name": "e3-kernel"
  },
  "language_info": {
   "codemirror_mode": "",
   "file_extension": ".py",
   "mimetype": "",
   "name": "e3",
   "nbconvert_exporter": "",
   "pygments_lexer": "",
   "version": "1.0"
  }
 },
 "nbformat": 4,
 "nbformat_minor": 2
}
