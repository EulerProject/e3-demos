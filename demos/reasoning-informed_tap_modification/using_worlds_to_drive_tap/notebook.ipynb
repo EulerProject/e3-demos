{
 "cells": [
  {
   "cell_type": "code",
   "execution_count": 4,
   "metadata": {
    "collapsed": false
   },
   "outputs": [
    {
     "data": {
      "text/plain": [
       "Tap: demo_butterflies (Note: 1997 has multiple roots (2))\n"
      ]
     },
     "execution_count": 4,
     "metadata": {},
     "output_type": "execute_result"
    }
   ],
   "source": [
    "use tap demo_butterflies"
   ]
  },
  {
   "cell_type": "code",
   "execution_count": 5,
   "metadata": {
    "collapsed": false
   },
   "outputs": [
    {
     "data": {
      "text/plain": [
       "Tap: objective_engelbart (Note: 1997 has multiple roots (2))\n"
      ]
     },
     "execution_count": 5,
     "metadata": {},
     "output_type": "execute_result"
    }
   ],
   "source": [
    "remove articulation 3"
   ]
  },
  {
   "cell_type": "code",
   "execution_count": 6,
   "metadata": {
    "collapsed": false
   },
   "outputs": [
    {
     "data": {
      "text/plain": [
       "Coverage:True\n",
       "Sibling Disjontness:True\n",
       "Regions:mnpw\n",
       "\n",
       "taxonomy 1997 D’Abrera\n",
       "(Amauris_hyalites Amauris_hyalites_subsp_hyalites Amauris_hyalites_subsp_makuyensis)\n",
       "(Amauris_damocles)\n",
       "\n",
       "taxonomy 1995 AckeryEtAl\n",
       "(Amauris_damocles Amauris_damocles_subsp_damocles Amauris_damocles_subsp_hyalites Amauris_damocles_subsp_makuyensis)\n",
       "\n",
       "articulation\n",
       "1. [1997.Amauris_damocles equals 1995.Amauris_damocles_subsp_damocles]\n",
       "2. [1997.Amauris_hyalites_subsp_makuyensis equals 1995.Amauris_damocles_subsp_makuyensis]\n"
      ]
     },
     "execution_count": 6,
     "metadata": {},
     "output_type": "execute_result"
    }
   ],
   "source": [
    "print tap"
   ]
  },
  {
   "cell_type": "code",
   "execution_count": 6,
   "metadata": {
    "collapsed": false
   },
   "outputs": [
    {
     "data": {
      "text/plain": [
       "5 worlds have been produced.\n",
       "\n",
       "1. World\n",
       "1997.Amauris_hyalites_subsp_makuyensis disjoint 1995.Amauris_damocles_subsp_hyalites\n",
       "1997.Amauris_damocles disjoint 1995.Amauris_damocles_subsp_makuyensis\n",
       "1997.Amauris_hyalites_subsp_hyalites disjoint 1995.Amauris_damocles_subsp_makuyensis\n",
       "1997.Amauris_hyalites disjoint 1995.Amauris_damocles_subsp_damocles\n",
       "1997.Amauris_hyalites_subsp_makuyensis disjoint 1995.Amauris_damocles_subsp_damocles\n",
       "1997.Amauris_hyalites_subsp_hyalites disjoint 1995.Amauris_damocles_subsp_damocles\n",
       "1997.Amauris_damocles disjoint 1995.Amauris_damocles_subsp_hyalites\n",
       "1997.Amauris_hyalites overlaps 1995.Amauris_damocles_subsp_hyalites\n",
       "1997.Amauris_hyalites_subsp_hyalites is_included_in 1995.Amauris_damocles\n",
       "1997.Amauris_hyalites_subsp_makuyensis is_included_in 1995.Amauris_damocles\n",
       "1997.Amauris_hyalites is_included_in 1995.Amauris_damocles\n",
       "1997.Amauris_damocles is_included_in 1995.Amauris_damocles\n",
       "1997.Amauris_hyalites_subsp_hyalites is_included_in 1995.Amauris_damocles_subsp_hyalites\n",
       "1997.Amauris_hyalites includes 1995.Amauris_damocles_subsp_makuyensis\n",
       "1997.Amauris_hyalites_subsp_makuyensis equals 1995.Amauris_damocles_subsp_makuyensis\n",
       "1997.Amauris_damocles equals 1995.Amauris_damocles_subsp_damocles\n",
       "\n",
       "2. World\n",
       "1997.Amauris_hyalites_subsp_makuyensis disjoint 1995.Amauris_damocles_subsp_hyalites\n",
       "1997.Amauris_damocles disjoint 1995.Amauris_damocles_subsp_makuyensis\n",
       "1997.Amauris_hyalites_subsp_hyalites disjoint 1995.Amauris_damocles_subsp_makuyensis\n",
       "1997.Amauris_hyalites disjoint 1995.Amauris_damocles_subsp_damocles\n",
       "1997.Amauris_hyalites_subsp_makuyensis disjoint 1995.Amauris_damocles_subsp_damocles\n",
       "1997.Amauris_hyalites_subsp_hyalites disjoint 1995.Amauris_damocles_subsp_damocles\n",
       "1997.Amauris_damocles disjoint 1995.Amauris_damocles_subsp_hyalites\n",
       "1997.Amauris_hyalites_subsp_hyalites is_included_in 1995.Amauris_damocles\n",
       "1997.Amauris_hyalites_subsp_makuyensis is_included_in 1995.Amauris_damocles\n",
       "1997.Amauris_hyalites is_included_in 1995.Amauris_damocles\n",
       "1997.Amauris_damocles is_included_in 1995.Amauris_damocles\n",
       "1997.Amauris_hyalites includes 1995.Amauris_damocles_subsp_hyalites\n",
       "1997.Amauris_hyalites includes 1995.Amauris_damocles_subsp_makuyensis\n",
       "1997.Amauris_hyalites_subsp_hyalites equals 1995.Amauris_damocles_subsp_hyalites\n",
       "1997.Amauris_hyalites_subsp_makuyensis equals 1995.Amauris_damocles_subsp_makuyensis\n",
       "1997.Amauris_damocles equals 1995.Amauris_damocles_subsp_damocles\n",
       "\n",
       "3. World\n",
       "1997.Amauris_hyalites_subsp_makuyensis disjoint 1995.Amauris_damocles_subsp_hyalites\n",
       "1997.Amauris_damocles disjoint 1995.Amauris_damocles_subsp_makuyensis\n",
       "1997.Amauris_hyalites_subsp_hyalites disjoint 1995.Amauris_damocles_subsp_makuyensis\n",
       "1997.Amauris_hyalites disjoint 1995.Amauris_damocles_subsp_damocles\n",
       "1997.Amauris_hyalites_subsp_makuyensis disjoint 1995.Amauris_damocles_subsp_damocles\n",
       "1997.Amauris_hyalites_subsp_hyalites disjoint 1995.Amauris_damocles_subsp_damocles\n",
       "1997.Amauris_damocles disjoint 1995.Amauris_damocles_subsp_hyalites\n",
       "1997.Amauris_hyalites overlaps 1995.Amauris_damocles_subsp_hyalites\n",
       "1997.Amauris_hyalites_subsp_hyalites overlaps 1995.Amauris_damocles\n",
       "1997.Amauris_hyalites overlaps 1995.Amauris_damocles\n",
       "1997.Amauris_hyalites_subsp_hyalites overlaps 1995.Amauris_damocles_subsp_hyalites\n",
       "1997.Amauris_hyalites_subsp_makuyensis is_included_in 1995.Amauris_damocles\n",
       "1997.Amauris_damocles is_included_in 1995.Amauris_damocles\n",
       "1997.Amauris_hyalites includes 1995.Amauris_damocles_subsp_makuyensis\n",
       "1997.Amauris_hyalites_subsp_makuyensis equals 1995.Amauris_damocles_subsp_makuyensis\n",
       "1997.Amauris_damocles equals 1995.Amauris_damocles_subsp_damocles\n",
       "\n",
       "4. World\n",
       "1997.Amauris_hyalites_subsp_makuyensis disjoint 1995.Amauris_damocles_subsp_hyalites\n",
       "1997.Amauris_damocles disjoint 1995.Amauris_damocles_subsp_makuyensis\n",
       "1997.Amauris_hyalites_subsp_hyalites disjoint 1995.Amauris_damocles_subsp_makuyensis\n",
       "1997.Amauris_hyalites disjoint 1995.Amauris_damocles_subsp_damocles\n",
       "1997.Amauris_hyalites_subsp_makuyensis disjoint 1995.Amauris_damocles_subsp_damocles\n",
       "1997.Amauris_hyalites_subsp_hyalites disjoint 1995.Amauris_damocles_subsp_damocles\n",
       "1997.Amauris_damocles disjoint 1995.Amauris_damocles_subsp_hyalites\n",
       "1997.Amauris_hyalites_subsp_hyalites overlaps 1995.Amauris_damocles\n",
       "1997.Amauris_hyalites overlaps 1995.Amauris_damocles\n",
       "1997.Amauris_hyalites_subsp_makuyensis is_included_in 1995.Amauris_damocles\n",
       "1997.Amauris_damocles is_included_in 1995.Amauris_damocles\n",
       "1997.Amauris_hyalites includes 1995.Amauris_damocles_subsp_hyalites\n",
       "1997.Amauris_hyalites_subsp_hyalites includes 1995.Amauris_damocles_subsp_hyalites\n",
       "1997.Amauris_hyalites includes 1995.Amauris_damocles_subsp_makuyensis\n",
       "1997.Amauris_hyalites_subsp_makuyensis equals 1995.Amauris_damocles_subsp_makuyensis\n",
       "1997.Amauris_damocles equals 1995.Amauris_damocles_subsp_damocles\n",
       "\n",
       "5. World\n",
       "1997.Amauris_hyalites disjoint 1995.Amauris_damocles_subsp_hyalites\n",
       "1997.Amauris_hyalites_subsp_hyalites disjoint 1995.Amauris_damocles\n",
       "1997.Amauris_hyalites_subsp_makuyensis disjoint 1995.Amauris_damocles_subsp_hyalites\n",
       "1997.Amauris_hyalites_subsp_hyalites disjoint 1995.Amauris_damocles_subsp_hyalites\n",
       "1997.Amauris_damocles disjoint 1995.Amauris_damocles_subsp_makuyensis\n",
       "1997.Amauris_hyalites_subsp_hyalites disjoint 1995.Amauris_damocles_subsp_makuyensis\n",
       "1997.Amauris_hyalites disjoint 1995.Amauris_damocles_subsp_damocles\n",
       "1997.Amauris_hyalites_subsp_makuyensis disjoint 1995.Amauris_damocles_subsp_damocles\n",
       "1997.Amauris_hyalites_subsp_hyalites disjoint 1995.Amauris_damocles_subsp_damocles\n",
       "1997.Amauris_damocles disjoint 1995.Amauris_damocles_subsp_hyalites\n",
       "1997.Amauris_hyalites overlaps 1995.Amauris_damocles\n",
       "1997.Amauris_hyalites_subsp_makuyensis is_included_in 1995.Amauris_damocles\n",
       "1997.Amauris_damocles is_included_in 1995.Amauris_damocles\n",
       "1997.Amauris_hyalites includes 1995.Amauris_damocles_subsp_makuyensis\n",
       "1997.Amauris_hyalites_subsp_makuyensis equals 1995.Amauris_damocles_subsp_makuyensis\n",
       "1997.Amauris_damocles equals 1995.Amauris_damocles_subsp_damocles"
      ]
     },
     "execution_count": 6,
     "metadata": {},
     "output_type": "execute_result"
    }
   ],
   "source": [
    "print worlds"
   ]
  },
  {
   "cell_type": "code",
   "execution_count": 8,
   "metadata": {
    "collapsed": false
   },
   "outputs": [
    {
     "data": {
      "text/plain": [
       "Tap: fervent_golick (Note: 1997 has multiple roots (2))"
      ]
     },
     "execution_count": 8,
     "metadata": {},
     "output_type": "execute_result"
    }
   ],
   "source": [
    "use world 4"
   ]
  },
  {
   "cell_type": "code",
   "execution_count": 9,
   "metadata": {
    "collapsed": false
   },
   "outputs": [
    {
     "data": {
      "text/plain": [
       "Coverage:True\n",
       "Sibling Disjontness:True\n",
       "Regions:mnpw\n",
       "\n",
       "taxonomy 1997 D’Abrera\n",
       "(Amauris_hyalites Amauris_hyalites_subsp_hyalites Amauris_hyalites_subsp_makuyensis)\n",
       "(Amauris_damocles)\n",
       "\n",
       "taxonomy 1995 AckeryEtAl\n",
       "(Amauris_damocles Amauris_damocles_subsp_damocles Amauris_damocles_subsp_hyalites Amauris_damocles_subsp_makuyensis)\n",
       "\n",
       "articulation\n",
       "1. [1997.Amauris_damocles disjoint 1995.Amauris_damocles_subsp_hyalites]\n",
       "2. [1997.Amauris_damocles disjoint 1995.Amauris_damocles_subsp_makuyensis]\n",
       "3. [1997.Amauris_hyalites disjoint 1995.Amauris_damocles_subsp_damocles]\n",
       "4. [1997.Amauris_hyalites_subsp_hyalites disjoint 1995.Amauris_damocles_subsp_damocles]\n",
       "5. [1997.Amauris_hyalites_subsp_hyalites disjoint 1995.Amauris_damocles_subsp_makuyensis]\n",
       "6. [1997.Amauris_hyalites_subsp_makuyensis disjoint 1995.Amauris_damocles_subsp_damocles]\n",
       "7. [1997.Amauris_hyalites_subsp_makuyensis disjoint 1995.Amauris_damocles_subsp_hyalites]\n",
       "8. [1997.Amauris_damocles equals 1995.Amauris_damocles_subsp_damocles]\n",
       "9. [1997.Amauris_hyalites_subsp_makuyensis equals 1995.Amauris_damocles_subsp_makuyensis]\n",
       "10. [1997.Amauris_hyalites includes 1995.Amauris_damocles_subsp_hyalites]\n",
       "11. [1997.Amauris_hyalites includes 1995.Amauris_damocles_subsp_makuyensis]\n",
       "12. [1997.Amauris_hyalites_subsp_hyalites includes 1995.Amauris_damocles_subsp_hyalites]\n",
       "13. [1997.Amauris_damocles is_included_in 1995.Amauris_damocles]\n",
       "14. [1997.Amauris_hyalites_subsp_makuyensis is_included_in 1995.Amauris_damocles]\n",
       "15. [1997.Amauris_hyalites overlaps 1995.Amauris_damocles]\n",
       "16. [1997.Amauris_hyalites_subsp_hyalites overlaps 1995.Amauris_damocles]\n"
      ]
     },
     "execution_count": 9,
     "metadata": {},
     "output_type": "execute_result"
    }
   ],
   "source": [
    "print tap"
   ]
  },
  {
   "cell_type": "code",
   "execution_count": 10,
   "metadata": {
    "collapsed": false
   },
   "outputs": [
    {
     "data": {
      "text/plain": [
       "1 worlds have been produced.\n",
       "\n",
       "1. World\n",
       "1997.Amauris_hyalites_subsp_makuyensis disjoint 1995.Amauris_damocles_subsp_hyalites\n",
       "1997.Amauris_damocles disjoint 1995.Amauris_damocles_subsp_makuyensis\n",
       "1997.Amauris_hyalites_subsp_hyalites disjoint 1995.Amauris_damocles_subsp_makuyensis\n",
       "1997.Amauris_hyalites disjoint 1995.Amauris_damocles_subsp_damocles\n",
       "1997.Amauris_hyalites_subsp_makuyensis disjoint 1995.Amauris_damocles_subsp_damocles\n",
       "1997.Amauris_hyalites_subsp_hyalites disjoint 1995.Amauris_damocles_subsp_damocles\n",
       "1997.Amauris_damocles disjoint 1995.Amauris_damocles_subsp_hyalites\n",
       "1997.Amauris_hyalites_subsp_hyalites overlaps 1995.Amauris_damocles\n",
       "1997.Amauris_hyalites overlaps 1995.Amauris_damocles\n",
       "1997.Amauris_hyalites_subsp_makuyensis is_included_in 1995.Amauris_damocles\n",
       "1997.Amauris_damocles is_included_in 1995.Amauris_damocles\n",
       "1997.Amauris_hyalites includes 1995.Amauris_damocles_subsp_hyalites\n",
       "1997.Amauris_hyalites_subsp_hyalites includes 1995.Amauris_damocles_subsp_hyalites\n",
       "1997.Amauris_hyalites includes 1995.Amauris_damocles_subsp_makuyensis\n",
       "1997.Amauris_hyalites_subsp_makuyensis equals 1995.Amauris_damocles_subsp_makuyensis\n",
       "1997.Amauris_damocles equals 1995.Amauris_damocles_subsp_damocles"
      ]
     },
     "execution_count": 10,
     "metadata": {},
     "output_type": "execute_result"
    }
   ],
   "source": [
    "print worlds"
   ]
  }
 ],
 "metadata": {
  "kernelspec": {
   "display_name": "e3",
   "language": "e3",
   "name": "e3-kernel"
  },
  "language_info": {
   "codemirror_mode": "",
   "file_extension": ".py",
   "mimetype": "",
   "name": "e3",
   "nbconvert_exporter": "",
   "pygments_lexer": "",
   "version": "1.0"
  }
 },
 "nbformat": 4,
 "nbformat_minor": 2
}
