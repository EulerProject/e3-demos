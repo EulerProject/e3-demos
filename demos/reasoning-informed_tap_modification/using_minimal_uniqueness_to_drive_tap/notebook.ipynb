{
 "cells": [
  {
   "cell_type": "code",
   "execution_count": 1,
   "metadata": {
    "collapsed": false
   },
   "outputs": [
    {
     "data": {
      "text/plain": [
       "Tap: determined_cori (Note: 1997 has multiple roots (2))\n"
      ]
     },
     "execution_count": 1,
     "metadata": {},
     "output_type": "execute_result"
    }
   ],
   "source": [
    "load tap butterflies.txt"
   ]
  },
  {
   "cell_type": "code",
   "execution_count": 2,
   "metadata": {
    "collapsed": false
   },
   "outputs": [
    {
     "data": {
      "text/plain": [
       "Coverage:True\n",
       "Sibling Disjontness:True\n",
       "Regions:mnpw\n",
       "\n",
       "taxonomy 1997 D’Abrera\n",
       "(Amauris_hyalites Amauris_hyalites_subsp_hyalites Amauris_hyalites_subsp_makuyensis)\n",
       "(Amauris_damocles)\n",
       "\n",
       "taxonomy 1995 AckeryEtAl\n",
       "(Amauris_damocles Amauris_damocles_subsp_damocles Amauris_damocles_subsp_hyalites Amauris_damocles_subsp_makuyensis)\n",
       "\n",
       "articulation\n",
       "1. [1997.Amauris_damocles equals 1995.Amauris_damocles_subsp_damocles]\n",
       "2. [1997.Amauris_hyalites_subsp_makuyensis equals 1995.Amauris_damocles_subsp_makuyensis]\n",
       "3. [1997.Amauris_hyalites_subsp_hyalites is_included_in 1995.Amauris_damocles]\n",
       "4. [1997.Amauris_hyalites_subsp_hyalites is_included_in 1995.Amauris_damocles_subsp_hyalites]\n"
      ]
     },
     "execution_count": 2,
     "metadata": {},
     "output_type": "execute_result"
    }
   ],
   "source": [
    "print tap"
   ]
  },
  {
   "cell_type": "code",
   "execution_count": 3,
   "metadata": {
    "collapsed": false
   },
   "outputs": [
    {
     "data": {
      "text/plain": [
       "1. Set\n",
       "1997.Amauris_hyalites_subsp_makuyensis equals 1995.Amauris_damocles_subsp_makuyensis\n",
       "1997.Amauris_damocles equals 1995.Amauris_damocles_subsp_damocles\n",
       "1997.Amauris_hyalites_subsp_hyalites is_included_in 1995.Amauris_damocles_subsp_hyalites\n"
      ]
     },
     "execution_count": 3,
     "metadata": {},
     "output_type": "execute_result"
    }
   ],
   "source": [
    "print minimal uniqueness"
   ]
  },
  {
   "cell_type": "code",
   "execution_count": 4,
   "metadata": {
    "collapsed": false
   },
   "outputs": [
    {
     "data": {
      "text/plain": [
       "Tap: demo_butterflies (Note: 1997 has multiple roots (2))"
      ]
     },
     "execution_count": 4,
     "metadata": {},
     "output_type": "execute_result"
    }
   ],
   "source": [
    "use minimal uniqueness 1"
   ]
  },
  {
   "cell_type": "code",
   "execution_count": 4,
   "metadata": {
    "collapsed": false
   },
   "outputs": [
    {
     "data": {
      "text/plain": [
       "Coverage:True\n",
       "Sibling Disjontness:True\n",
       "Regions:mnpw\n",
       "\n",
       "taxonomy 1997 D’Abrera\n",
       "(Amauris_hyalites Amauris_hyalites_subsp_hyalites Amauris_hyalites_subsp_makuyensis)\n",
       "(Amauris_damocles)\n",
       "\n",
       "taxonomy 1995 AckeryEtAl\n",
       "(Amauris_damocles Amauris_damocles_subsp_damocles Amauris_damocles_subsp_hyalites Amauris_damocles_subsp_makuyensis)\n",
       "\n",
       "articulation\n",
       "1. [1997.Amauris_damocles equals 1995.Amauris_damocles_subsp_damocles]\n",
       "2. [1997.Amauris_hyalites_subsp_makuyensis equals 1995.Amauris_damocles_subsp_makuyensis]\n",
       "3. [1997.Amauris_hyalites_subsp_hyalites is_included_in 1995.Amauris_damocles_subsp_hyalites]\n"
      ]
     },
     "execution_count": 4,
     "metadata": {},
     "output_type": "execute_result"
    }
   ],
   "source": [
    "print tap"
   ]
  }
 ],
 "metadata": {
  "kernelspec": {
   "display_name": "e3",
   "language": "e3",
   "name": "e3-kernel"
  },
  "language_info": {
   "codemirror_mode": "",
   "file_extension": ".py",
   "mimetype": "",
   "name": "e3",
   "nbconvert_exporter": "",
   "pygments_lexer": "",
   "version": "1.0"
  }
 },
 "nbformat": 4,
 "nbformat_minor": 2
}
