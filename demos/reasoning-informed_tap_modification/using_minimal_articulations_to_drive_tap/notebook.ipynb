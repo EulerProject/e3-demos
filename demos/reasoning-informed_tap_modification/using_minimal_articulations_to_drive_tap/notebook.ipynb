{
 "cells": [
  {
   "cell_type": "code",
   "execution_count": 12,
   "metadata": {
    "collapsed": false
   },
   "outputs": [
    {
     "data": {
      "text/plain": [
       "Tap: peaceful_spence (Note: 1997 has multiple roots (2))\n"
      ]
     },
     "execution_count": 12,
     "metadata": {},
     "output_type": "execute_result"
    }
   ],
   "source": [
    "load tap butterflies.txt"
   ]
  },
  {
   "cell_type": "code",
   "execution_count": 13,
   "metadata": {
    "collapsed": false
   },
   "outputs": [
    {
     "data": {
      "text/plain": [
       "Coverage:True\n",
       "Sibling Disjontness:True\n",
       "Regions:mnpw\n",
       "\n",
       "taxonomy 1997 D’Abrera\n",
       "(Amauris_hyalites Amauris_hyalites_subsp_hyalites Amauris_hyalites_subsp_makuyensis)\n",
       "(Amauris_damocles)\n",
       "\n",
       "taxonomy 1995 AckeryEtAl\n",
       "(Amauris_damocles Amauris_damocles_subsp_damocles Amauris_damocles_subsp_hyalites Amauris_damocles_subsp_makuyensis)\n",
       "\n",
       "articulation\n",
       "1. [1995.Amauris_damocles_subsp_damocles disjoint 1997.Amauris_hyalites]\n",
       "2. [1995.Amauris_damocles_subsp_damocles disjoint 1997.Amauris_hyalites_subsp_hyalites]\n",
       "3. [1995.Amauris_damocles_subsp_damocles disjoint 1997.Amauris_hyalites_subsp_makuyensis]\n",
       "4. [1995.Amauris_damocles_subsp_hyalites disjoint 1997.Amauris_damocles]\n",
       "5. [1995.Amauris_damocles_subsp_hyalites disjoint 1997.Amauris_hyalites_subsp_makuyensis]\n",
       "6. [1995.Amauris_damocles_subsp_makuyensis disjoint 1997.Amauris_damocles]\n",
       "7. [1995.Amauris_damocles_subsp_makuyensis disjoint 1997.Amauris_hyalites_subsp_hyalites]\n",
       "8. [1995.Amauris_damocles_subsp_damocles equals 1997.Amauris_damocles]\n",
       "9. [1995.Amauris_damocles_subsp_makuyensis equals 1997.Amauris_hyalites_subsp_makuyensis]\n",
       "10. [1995.Amauris_damocles includes 1997.Amauris_damocles]\n",
       "11. [1995.Amauris_damocles includes 1997.Amauris_hyalites]\n",
       "12. [1995.Amauris_damocles includes 1997.Amauris_hyalites_subsp_hyalites]\n",
       "13. [1995.Amauris_damocles includes 1997.Amauris_hyalites_subsp_makuyensis]\n",
       "14. [1995.Amauris_damocles_subsp_hyalites includes 1997.Amauris_hyalites_subsp_hyalites]\n",
       "15. [1995.Amauris_damocles_subsp_makuyensis is_included_in 1997.Amauris_hyalites]\n",
       "16. [1995.Amauris_damocles_subsp_hyalites overlaps 1997.Amauris_hyalites]\n"
      ]
     },
     "execution_count": 13,
     "metadata": {},
     "output_type": "execute_result"
    }
   ],
   "source": [
    "print tap"
   ]
  },
  {
   "cell_type": "code",
   "execution_count": 14,
   "metadata": {
    "collapsed": false
   },
   "outputs": [
    {
     "data": {
      "text/plain": [
       "1.\n",
       "1995.Amauris_damocles_subsp_makuyensis equals 1997.Amauris_hyalites_subsp_makuyensis\n",
       "1995.Amauris_damocles_subsp_hyalites includes 1997.Amauris_hyalites_subsp_hyalites\n",
       "1995.Amauris_damocles_subsp_damocles equals 1997.Amauris_damocles\n",
       "\n",
       "2.\n",
       "1995.Amauris_damocles_subsp_hyalites includes 1997.Amauris_hyalites_subsp_hyalites\n",
       "1995.Amauris_damocles_subsp_makuyensis is_included_in 1997.Amauris_hyalites\n",
       "1995.Amauris_damocles_subsp_damocles equals 1997.Amauris_damocles\n",
       "1995.Amauris_damocles_subsp_hyalites disjoint 1997.Amauris_hyalites_subsp_makuyensis\n",
       "1995.Amauris_damocles includes 1997.Amauris_hyalites_subsp_makuyensis\n",
       "\n",
       "3.\n",
       "1995.Amauris_damocles_subsp_makuyensis disjoint 1997.Amauris_hyalites_subsp_hyalites\n",
       "1995.Amauris_damocles_subsp_hyalites disjoint 1997.Amauris_hyalites_subsp_makuyensis\n",
       "1995.Amauris_damocles includes 1997.Amauris_hyalites_subsp_hyalites\n",
       "1995.Amauris_damocles_subsp_makuyensis is_included_in 1997.Amauris_hyalites\n",
       "1995.Amauris_damocles_subsp_damocles equals 1997.Amauris_damocles\n",
       "1995.Amauris_damocles_subsp_hyalites overlaps 1997.Amauris_hyalites\n",
       "1995.Amauris_damocles includes 1997.Amauris_hyalites_subsp_makuyensis\n",
       "\n",
       "4.\n",
       "1995.Amauris_damocles includes 1997.Amauris_hyalites\n",
       "1995.Amauris_damocles_subsp_makuyensis disjoint 1997.Amauris_hyalites_subsp_hyalites\n",
       "1995.Amauris_damocles_subsp_hyalites disjoint 1997.Amauris_hyalites_subsp_makuyensis\n",
       "1995.Amauris_damocles_subsp_makuyensis is_included_in 1997.Amauris_hyalites\n",
       "1995.Amauris_damocles_subsp_damocles equals 1997.Amauris_damocles\n",
       "1995.Amauris_damocles_subsp_hyalites overlaps 1997.Amauris_hyalites\n",
       "\n",
       "5.\n",
       "1995.Amauris_damocles includes 1997.Amauris_hyalites\n",
       "1995.Amauris_damocles_subsp_hyalites includes 1997.Amauris_hyalites_subsp_hyalites\n",
       "1995.Amauris_damocles_subsp_makuyensis is_included_in 1997.Amauris_hyalites\n",
       "1995.Amauris_damocles_subsp_damocles equals 1997.Amauris_damocles\n",
       "1995.Amauris_damocles_subsp_hyalites disjoint 1997.Amauris_hyalites_subsp_makuyensis\n",
       "\n",
       "6.\n",
       "1995.Amauris_damocles_subsp_makuyensis equals 1997.Amauris_hyalites_subsp_makuyensis\n",
       "1995.Amauris_damocles includes 1997.Amauris_hyalites_subsp_hyalites\n",
       "1995.Amauris_damocles_subsp_damocles equals 1997.Amauris_damocles\n",
       "1995.Amauris_damocles_subsp_hyalites overlaps 1997.Amauris_hyalites\n",
       "\n",
       "7.\n",
       "1995.Amauris_damocles_subsp_makuyensis equals 1997.Amauris_hyalites_subsp_makuyensis\n",
       "1995.Amauris_damocles includes 1997.Amauris_hyalites\n",
       "1995.Amauris_damocles_subsp_damocles equals 1997.Amauris_damocles\n",
       "1995.Amauris_damocles_subsp_hyalites overlaps 1997.Amauris_hyalites\n"
      ]
     },
     "execution_count": 14,
     "metadata": {},
     "output_type": "execute_result"
    }
   ],
   "source": [
    "print minimal articulations"
   ]
  },
  {
   "cell_type": "code",
   "execution_count": 15,
   "metadata": {
    "collapsed": false
   },
   "outputs": [
    {
     "data": {
      "text/plain": [
       "Tap: determined_kalam (Note: 1997 has multiple roots (2))"
      ]
     },
     "execution_count": 15,
     "metadata": {},
     "output_type": "execute_result"
    }
   ],
   "source": [
    "use minimal articulations 7"
   ]
  },
  {
   "cell_type": "code",
   "execution_count": 15,
   "metadata": {
    "collapsed": false
   },
   "outputs": [
    {
     "data": {
      "text/plain": [
       "Coverage:True\n",
       "Sibling Disjontness:True\n",
       "Regions:mnpw\n",
       "\n",
       "taxonomy 1997 D’Abrera\n",
       "(Amauris_hyalites Amauris_hyalites_subsp_hyalites Amauris_hyalites_subsp_makuyensis)\n",
       "(Amauris_damocles)\n",
       "\n",
       "taxonomy 1995 AckeryEtAl\n",
       "(Amauris_damocles Amauris_damocles_subsp_damocles Amauris_damocles_subsp_hyalites Amauris_damocles_subsp_makuyensis)\n",
       "\n",
       "articulation\n",
       "1. [1995.Amauris_damocles_subsp_damocles equals 1997.Amauris_damocles]\n",
       "2. [1995.Amauris_damocles_subsp_makuyensis equals 1997.Amauris_hyalites_subsp_makuyensis]\n",
       "3. [1995.Amauris_damocles includes 1997.Amauris_hyalites]\n",
       "4. [1995.Amauris_damocles_subsp_hyalites overlaps 1997.Amauris_hyalites]\n"
      ]
     },
     "execution_count": 15,
     "metadata": {},
     "output_type": "execute_result"
    }
   ],
   "source": [
    "print tap"
   ]
  }
 ],
 "metadata": {
  "kernelspec": {
   "display_name": "e3",
   "language": "e3",
   "name": "e3-kernel"
  },
  "language_info": {
   "codemirror_mode": "",
   "file_extension": ".py",
   "mimetype": "",
   "name": "e3",
   "nbconvert_exporter": "",
   "pygments_lexer": "",
   "version": "1.0"
  }
 },
 "nbformat": 4,
 "nbformat_minor": 2
}
