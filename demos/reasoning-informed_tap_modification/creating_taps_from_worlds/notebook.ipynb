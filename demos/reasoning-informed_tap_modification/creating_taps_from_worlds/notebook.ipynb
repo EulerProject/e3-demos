{
 "cells": [
  {
   "cell_type": "code",
   "execution_count": 1,
   "metadata": {
    "collapsed": false
   },
   "outputs": [
    {
     "data": {
      "text/plain": [
       "Tap: demo_butterflies (Note: 1997 has multiple roots (2))\n"
      ]
     },
     "execution_count": 1,
     "metadata": {},
     "output_type": "execute_result"
    }
   ],
   "source": [
    "use tap demo_butterflies"
   ]
  },
  {
   "cell_type": "code",
   "execution_count": 2,
   "metadata": {
    "collapsed": false
   },
   "outputs": [
    {
     "data": {
      "text/plain": [
       "Coverage:True\n",
       "Sibling Disjontness:True\n",
       "Regions:mnpw\n",
       "\n",
       "taxonomy 1997 D’Abrera\n",
       "(Amauris_hyalites Amauris_hyalites_subsp_hyalites Amauris_hyalites_subsp_makuyensis)\n",
       "(Amauris_damocles)\n",
       "\n",
       "taxonomy 1995 AckeryEtAl\n",
       "(Amauris_damocles Amauris_damocles_subsp_damocles Amauris_damocles_subsp_hyalites Amauris_damocles_subsp_makuyensis)\n",
       "\n",
       "articulation\n",
       "1. [1997.Amauris_damocles equals 1995.Amauris_damocles_subsp_damocles]\n",
       "2. [1997.Amauris_hyalites_subsp_makuyensis equals 1995.Amauris_damocles_subsp_makuyensis]\n",
       "3. [1997.Amauris_hyalites_subsp_hyalites is_included_in 1995.Amauris_damocles_subsp_hyalites]\n"
      ]
     },
     "execution_count": 2,
     "metadata": {},
     "output_type": "execute_result"
    }
   ],
   "source": [
    "print tap"
   ]
  },
  {
   "cell_type": "code",
   "execution_count": 2,
   "metadata": {
    "collapsed": false
   },
   "outputs": [
    {
     "data": {
      "text/plain": [
       "Yes.\n"
      ]
     },
     "execution_count": 2,
     "metadata": {},
     "output_type": "execute_result"
    }
   ],
   "source": [
    "is unique"
   ]
  },
  {
   "cell_type": "code",
   "execution_count": 4,
   "metadata": {
    "collapsed": false
   },
   "outputs": [
    {
     "data": {
      "text/plain": [
       "Tap: demo_oaks\n"
      ]
     },
     "execution_count": 4,
     "metadata": {},
     "output_type": "execute_result"
    }
   ],
   "source": [
    "use tap demo_oaks"
   ]
  },
  {
   "cell_type": "code",
   "execution_count": 4,
   "metadata": {
    "collapsed": false
   },
   "outputs": [
    {
     "data": {
      "text/plain": [
       "Coverage:True\n",
       "Sibling Disjontness:True\n",
       "Regions:mnpw\n",
       "\n",
       "taxonomy FloraChina 2012\n",
       "(OakGenus ChineseOakSpecies1 ChineseOakSpecies2)\n",
       "\n",
       "taxonomy FloraMexico 2008\n",
       "(OakGenus MexicanOakSpecies1 MexicanOakSpecies2)\n",
       "\n",
       "articulation\n",
       "1. [FloraChina.ChineseOakSpecies2 equals FloraMexico.MexicanOakSpecies2]\n",
       "2. [FloraChina.ChineseOakSpecies1 is_included_in FloraMexico.MexicanOakSpecies1]\n"
      ]
     },
     "execution_count": 4,
     "metadata": {},
     "output_type": "execute_result"
    }
   ],
   "source": [
    "print tap"
   ]
  },
  {
   "cell_type": "code",
   "execution_count": 4,
   "metadata": {
    "collapsed": false
   },
   "outputs": [
    {
     "data": {
      "text/plain": [
       "Yes.\n"
      ]
     },
     "execution_count": 4,
     "metadata": {},
     "output_type": "execute_result"
    }
   ],
   "source": [
    "is unique"
   ]
  },
  {
   "cell_type": "code",
   "execution_count": 7,
   "metadata": {
    "collapsed": false
   },
   "outputs": [
    {
     "data": {
      "text/plain": [
       "Tap: objective_bassi (Invalid tap: underspecified)\n"
      ]
     },
     "execution_count": 7,
     "metadata": {},
     "output_type": "execute_result"
    }
   ],
   "source": [
    "create tap from worlds demo_butterflies demo_oaks"
   ]
  },
  {
   "cell_type": "code",
   "execution_count": 7,
   "metadata": {
    "collapsed": false
   },
   "outputs": [
    {
     "data": {
      "text/plain": [
       "Coverage:True\n",
       "Sibling Disjontness:True\n",
       "Regions:mnpw\n",
       "\n",
       "taxonomy 1997-1995 D’Abrera-AckeryEtAl\n",
       "(1995.Amauris_damocles 1995.Amauris_damocles_subsp_hyalites 1997.Amauris_damocles-1995.Amauris_damocles_subsp_damocles 1997.Amauris_hyalites)\n",
       "(1997.Amauris_hyalites 1995.Amauris_damocles_subsp_hyalites 1997.Amauris_hyalites_subsp_hyalites 1997.Amauris_hyalites_subsp_makuyensis-1995.Amauris_damocles_subsp_makuyensis)\n",
       "(1995.Amauris_damocles_subsp_hyalites 1997.Amauris_hyalites_subsp_hyalites)\n",
       "(1995.Amauris_damocles_subsp_hyalites 1997.Amauris_hyalites_subsp_hyalites)\n",
       "\n",
       "taxonomy FloraChina-FloraMexico 2012-2008\n",
       "(FloraMexico.OakGenus FloraChina.OakGenus FloraMexico.MexicanOakSpecies1)\n",
       "(FloraMexico.MexicanOakSpecies1 FloraChina.ChineseOakSpecies1 FloraChina.OakGenus)\n",
       "(FloraChina.OakGenus FloraChina.ChineseOakSpecies1 FloraChina.ChineseOakSpecies2-FloraMexico.MexicanOakSpecies2)\n",
       "(FloraChina.OakGenus FloraChina.ChineseOakSpecies1 FloraChina.ChineseOakSpecies2-FloraMexico.MexicanOakSpecies2)\n",
       "\n",
       "articulation\n"
      ]
     },
     "execution_count": 7,
     "metadata": {},
     "output_type": "execute_result"
    }
   ],
   "source": [
    "print tap"
   ]
  }
 ],
 "metadata": {
  "kernelspec": {
   "display_name": "e3",
   "language": "e3",
   "name": "e3-kernel"
  },
  "language_info": {
   "codemirror_mode": "",
   "file_extension": ".py",
   "mimetype": "",
   "name": "e3",
   "nbconvert_exporter": "",
   "pygments_lexer": "",
   "version": "1.0"
  }
 },
 "nbformat": 4,
 "nbformat_minor": 2
}
