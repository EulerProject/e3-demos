{
 "cells": [
  {
   "cell_type": "code",
   "execution_count": 1,
   "metadata": {
    "collapsed": false
   },
   "outputs": [
    {
     "data": {
      "text/plain": [
       "Tap: demo_butterflies (Note: 1997 has multiple roots (2))\n"
      ]
     },
     "execution_count": 1,
     "metadata": {},
     "output_type": "execute_result"
    }
   ],
   "source": [
    "use tap demo_butterflies"
   ]
  },
  {
   "cell_type": "code",
   "execution_count": 1,
   "metadata": {
    "collapsed": false
   },
   "outputs": [
    {
     "data": {
      "text/plain": [
       "Tap: affectionate_davinci (Note: 1997 has multiple roots (2))\n"
      ]
     },
     "execution_count": 1,
     "metadata": {},
     "output_type": "execute_result"
    }
   ],
   "source": [
    "remove articulation 3"
   ]
  },
  {
   "cell_type": "code",
   "execution_count": 1,
   "metadata": {
    "collapsed": false
   },
   "outputs": [
    {
     "data": {
      "text/plain": [
       "Coverage:True\n",
       "Sibling Disjontness:True\n",
       "Regions:mnpw\n",
       "\n",
       "taxonomy 1997 D’Abrera\n",
       "(Amauris_hyalites Amauris_hyalites_subsp_hyalites Amauris_hyalites_subsp_makuyensis)\n",
       "(Amauris_damocles)\n",
       "\n",
       "taxonomy 1995 AckeryEtAl\n",
       "(Amauris_damocles Amauris_damocles_subsp_damocles Amauris_damocles_subsp_hyalites Amauris_damocles_subsp_makuyensis)\n",
       "\n",
       "articulation\n",
       "1. [1997.Amauris_damocles equals 1995.Amauris_damocles_subsp_damocles]\n",
       "2. [1997.Amauris_hyalites_subsp_makuyensis equals 1995.Amauris_damocles_subsp_makuyensis]\n"
      ]
     },
     "execution_count": 1,
     "metadata": {},
     "output_type": "execute_result"
    }
   ],
   "source": [
    "print tap"
   ]
  },
  {
   "cell_type": "code",
   "execution_count": 1,
   "metadata": {
    "collapsed": false
   },
   "outputs": [
    {
     "data": {
      "text/plain": [
       "1. Set\n",
       "1995.Amauris_damocles_subsp_hyalites disjoint 1997.Amauris_hyalites_subsp_makuyensis\n",
       "1995.Amauris_damocles_subsp_makuyensis disjoint 1997.Amauris_damocles\n",
       "1995.Amauris_damocles_subsp_makuyensis disjoint 1997.Amauris_hyalites_subsp_hyalites\n",
       "1995.Amauris_damocles_subsp_damocles disjoint 1997.Amauris_hyalites\n",
       "1995.Amauris_damocles_subsp_damocles disjoint 1997.Amauris_hyalites_subsp_makuyensis\n",
       "1995.Amauris_damocles_subsp_damocles disjoint 1997.Amauris_hyalites_subsp_hyalites\n",
       "1995.Amauris_damocles_subsp_hyalites disjoint 1997.Amauris_damocles\n",
       "1995.Amauris_damocles_subsp_hyalites overlaps 1997.Amauris_hyalites\n",
       "1995.Amauris_damocles overlaps 1997.Amauris_hyalites_subsp_hyalites\n",
       "1995.Amauris_damocles overlaps 1997.Amauris_hyalites\n",
       "1995.Amauris_damocles_subsp_hyalites overlaps 1997.Amauris_hyalites_subsp_hyalites\n",
       "1995.Amauris_damocles includes 1997.Amauris_hyalites_subsp_makuyensis\n",
       "1995.Amauris_damocles includes 1997.Amauris_damocles\n",
       "1995.Amauris_damocles_subsp_makuyensis is_included_in 1997.Amauris_hyalites\n",
       "1995.Amauris_damocles_subsp_makuyensis equals 1997.Amauris_hyalites_subsp_makuyensis\n",
       "1995.Amauris_damocles_subsp_damocles equals 1997.Amauris_damocles\n",
       "\n",
       "2. Set\n",
       "1995.Amauris_damocles_subsp_hyalites disjoint 1997.Amauris_hyalites_subsp_makuyensis\n",
       "1995.Amauris_damocles_subsp_makuyensis disjoint 1997.Amauris_damocles\n",
       "1995.Amauris_damocles_subsp_makuyensis disjoint 1997.Amauris_hyalites_subsp_hyalites\n",
       "1995.Amauris_damocles_subsp_damocles disjoint 1997.Amauris_hyalites\n",
       "1995.Amauris_damocles_subsp_damocles disjoint 1997.Amauris_hyalites_subsp_makuyensis\n",
       "1995.Amauris_damocles_subsp_damocles disjoint 1997.Amauris_hyalites_subsp_hyalites\n",
       "1995.Amauris_damocles_subsp_hyalites disjoint 1997.Amauris_damocles\n",
       "1995.Amauris_damocles_subsp_hyalites overlaps 1997.Amauris_hyalites\n",
       "1995.Amauris_damocles includes 1997.Amauris_hyalites_subsp_hyalites\n",
       "1995.Amauris_damocles includes 1997.Amauris_hyalites_subsp_makuyensis\n",
       "1995.Amauris_damocles includes 1997.Amauris_hyalites\n",
       "1995.Amauris_damocles includes 1997.Amauris_damocles\n",
       "1995.Amauris_damocles_subsp_hyalites includes 1997.Amauris_hyalites_subsp_hyalites\n",
       "1995.Amauris_damocles_subsp_makuyensis is_included_in 1997.Amauris_hyalites\n",
       "1995.Amauris_damocles_subsp_makuyensis equals 1997.Amauris_hyalites_subsp_makuyensis\n",
       "1995.Amauris_damocles_subsp_damocles equals 1997.Amauris_damocles\n",
       "\n",
       "3. Set\n",
       "1995.Amauris_damocles_subsp_hyalites disjoint 1997.Amauris_hyalites_subsp_makuyensis\n",
       "1995.Amauris_damocles_subsp_makuyensis disjoint 1997.Amauris_damocles\n",
       "1995.Amauris_damocles_subsp_makuyensis disjoint 1997.Amauris_hyalites_subsp_hyalites\n",
       "1995.Amauris_damocles_subsp_damocles disjoint 1997.Amauris_hyalites\n",
       "1995.Amauris_damocles_subsp_damocles disjoint 1997.Amauris_hyalites_subsp_makuyensis\n",
       "1995.Amauris_damocles_subsp_damocles disjoint 1997.Amauris_hyalites_subsp_hyalites\n",
       "1995.Amauris_damocles_subsp_hyalites disjoint 1997.Amauris_damocles\n",
       "1995.Amauris_damocles includes 1997.Amauris_hyalites_subsp_hyalites\n",
       "1995.Amauris_damocles includes 1997.Amauris_hyalites_subsp_makuyensis\n",
       "1995.Amauris_damocles includes 1997.Amauris_hyalites\n",
       "1995.Amauris_damocles includes 1997.Amauris_damocles\n",
       "1995.Amauris_damocles_subsp_hyalites is_included_in 1997.Amauris_hyalites\n",
       "1995.Amauris_damocles_subsp_makuyensis is_included_in 1997.Amauris_hyalites\n",
       "1995.Amauris_damocles_subsp_hyalites equals 1997.Amauris_hyalites_subsp_hyalites\n",
       "1995.Amauris_damocles_subsp_makuyensis equals 1997.Amauris_hyalites_subsp_makuyensis\n",
       "1995.Amauris_damocles_subsp_damocles equals 1997.Amauris_damocles\n",
       "\n",
       "4. Set\n",
       "1995.Amauris_damocles_subsp_hyalites disjoint 1997.Amauris_hyalites_subsp_makuyensis\n",
       "1995.Amauris_damocles_subsp_makuyensis disjoint 1997.Amauris_damocles\n",
       "1995.Amauris_damocles_subsp_makuyensis disjoint 1997.Amauris_hyalites_subsp_hyalites\n",
       "1995.Amauris_damocles_subsp_damocles disjoint 1997.Amauris_hyalites\n",
       "1995.Amauris_damocles_subsp_damocles disjoint 1997.Amauris_hyalites_subsp_makuyensis\n",
       "1995.Amauris_damocles_subsp_damocles disjoint 1997.Amauris_hyalites_subsp_hyalites\n",
       "1995.Amauris_damocles_subsp_hyalites disjoint 1997.Amauris_damocles\n",
       "1995.Amauris_damocles overlaps 1997.Amauris_hyalites_subsp_hyalites\n",
       "1995.Amauris_damocles overlaps 1997.Amauris_hyalites\n",
       "1995.Amauris_damocles includes 1997.Amauris_hyalites_subsp_makuyensis\n",
       "1995.Amauris_damocles includes 1997.Amauris_damocles\n",
       "1995.Amauris_damocles_subsp_hyalites is_included_in 1997.Amauris_hyalites\n",
       "1995.Amauris_damocles_subsp_hyalites is_included_in 1997.Amauris_hyalites_subsp_hyalites\n",
       "1995.Amauris_damocles_subsp_makuyensis is_included_in 1997.Amauris_hyalites\n",
       "1995.Amauris_damocles_subsp_makuyensis equals 1997.Amauris_hyalites_subsp_makuyensis\n",
       "1995.Amauris_damocles_subsp_damocles equals 1997.Amauris_damocles\n",
       "\n",
       "5. Set\n",
       "1995.Amauris_damocles_subsp_hyalites disjoint 1997.Amauris_hyalites\n",
       "1995.Amauris_damocles disjoint 1997.Amauris_hyalites_subsp_hyalites\n",
       "1995.Amauris_damocles_subsp_hyalites disjoint 1997.Amauris_hyalites_subsp_makuyensis\n",
       "1995.Amauris_damocles_subsp_hyalites disjoint 1997.Amauris_hyalites_subsp_hyalites\n",
       "1995.Amauris_damocles_subsp_makuyensis disjoint 1997.Amauris_damocles\n",
       "1995.Amauris_damocles_subsp_makuyensis disjoint 1997.Amauris_hyalites_subsp_hyalites\n",
       "1995.Amauris_damocles_subsp_damocles disjoint 1997.Amauris_hyalites\n",
       "1995.Amauris_damocles_subsp_damocles disjoint 1997.Amauris_hyalites_subsp_makuyensis\n",
       "1995.Amauris_damocles_subsp_damocles disjoint 1997.Amauris_hyalites_subsp_hyalites\n",
       "1995.Amauris_damocles_subsp_hyalites disjoint 1997.Amauris_damocles\n",
       "1995.Amauris_damocles overlaps 1997.Amauris_hyalites\n",
       "1995.Amauris_damocles includes 1997.Amauris_hyalites_subsp_makuyensis\n",
       "1995.Amauris_damocles includes 1997.Amauris_damocles\n",
       "1995.Amauris_damocles_subsp_makuyensis is_included_in 1997.Amauris_hyalites\n",
       "1995.Amauris_damocles_subsp_makuyensis equals 1997.Amauris_hyalites_subsp_makuyensis\n",
       "1995.Amauris_damocles_subsp_damocles equals 1997.Amauris_damocles\n"
      ]
     },
     "execution_count": 1,
     "metadata": {},
     "output_type": "execute_result"
    }
   ],
   "source": [
    "print maximal articulations"
   ]
  },
  {
   "cell_type": "code",
   "execution_count": 1,
   "metadata": {
    "collapsed": false
   },
   "outputs": [
    {
     "data": {
      "text/plain": [
       "Tap: vigilant_heyrovsky (Note: 1997 has multiple roots (2))"
      ]
     },
     "execution_count": 1,
     "metadata": {},
     "output_type": "execute_result"
    }
   ],
   "source": [
    "use maximal articulations 2"
   ]
  },
  {
   "cell_type": "code",
   "execution_count": 1,
   "metadata": {
    "collapsed": false
   },
   "outputs": [
    {
     "data": {
      "text/plain": [
       "Coverage:True\n",
       "Sibling Disjontness:True\n",
       "Regions:mnpw\n",
       "\n",
       "taxonomy 1997 D’Abrera\n",
       "(Amauris_hyalites Amauris_hyalites_subsp_hyalites Amauris_hyalites_subsp_makuyensis)\n",
       "(Amauris_damocles)\n",
       "\n",
       "taxonomy 1995 AckeryEtAl\n",
       "(Amauris_damocles Amauris_damocles_subsp_damocles Amauris_damocles_subsp_hyalites Amauris_damocles_subsp_makuyensis)\n",
       "\n",
       "articulation\n",
       "1. [1995.Amauris_damocles_subsp_damocles disjoint 1997.Amauris_hyalites]\n",
       "2. [1995.Amauris_damocles_subsp_damocles disjoint 1997.Amauris_hyalites_subsp_hyalites]\n",
       "3. [1995.Amauris_damocles_subsp_damocles disjoint 1997.Amauris_hyalites_subsp_makuyensis]\n",
       "4. [1995.Amauris_damocles_subsp_hyalites disjoint 1997.Amauris_damocles]\n",
       "5. [1995.Amauris_damocles_subsp_hyalites disjoint 1997.Amauris_hyalites_subsp_makuyensis]\n",
       "6. [1995.Amauris_damocles_subsp_makuyensis disjoint 1997.Amauris_damocles]\n",
       "7. [1995.Amauris_damocles_subsp_makuyensis disjoint 1997.Amauris_hyalites_subsp_hyalites]\n",
       "8. [1995.Amauris_damocles_subsp_damocles equals 1997.Amauris_damocles]\n",
       "9. [1995.Amauris_damocles_subsp_makuyensis equals 1997.Amauris_hyalites_subsp_makuyensis]\n",
       "10. [1995.Amauris_damocles includes 1997.Amauris_damocles]\n",
       "11. [1995.Amauris_damocles includes 1997.Amauris_hyalites]\n",
       "12. [1995.Amauris_damocles includes 1997.Amauris_hyalites_subsp_hyalites]\n",
       "13. [1995.Amauris_damocles includes 1997.Amauris_hyalites_subsp_makuyensis]\n",
       "14. [1995.Amauris_damocles_subsp_hyalites includes 1997.Amauris_hyalites_subsp_hyalites]\n",
       "15. [1995.Amauris_damocles_subsp_makuyensis is_included_in 1997.Amauris_hyalites]\n",
       "16. [1995.Amauris_damocles_subsp_hyalites overlaps 1997.Amauris_hyalites]\n"
      ]
     },
     "execution_count": 1,
     "metadata": {},
     "output_type": "execute_result"
    }
   ],
   "source": [
    "print tap"
   ]
  }
 ],
 "metadata": {
  "kernelspec": {
   "display_name": "e3",
   "language": "e3",
   "name": "e3-kernel"
  },
  "language_info": {
   "codemirror_mode": "",
   "file_extension": ".py",
   "mimetype": "",
   "name": "e3",
   "nbconvert_exporter": "",
   "pygments_lexer": "",
   "version": "1.0"
  }
 },
 "nbformat": 4,
 "nbformat_minor": 2
}
