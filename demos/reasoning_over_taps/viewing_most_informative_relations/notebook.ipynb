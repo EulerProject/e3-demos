{
 "cells": [
  {
   "cell_type": "code",
   "execution_count": 3,
   "metadata": {
    "collapsed": false
   },
   "outputs": [
    {
     "data": {
      "text/plain": [
       "Tap: demo_butterflies (Note: 1997 has multiple roots (2))\n"
      ]
     },
     "execution_count": 3,
     "metadata": {},
     "output_type": "execute_result"
    }
   ],
   "source": [
    "use tap demo_butterflies"
   ]
  },
  {
   "cell_type": "code",
   "execution_count": 4,
   "metadata": {
    "collapsed": false
   },
   "outputs": [
    {
     "data": {
      "text/plain": [
       "Tap: elastic_davinci (Note: 1997 has multiple roots (2))\n"
      ]
     },
     "execution_count": 4,
     "metadata": {},
     "output_type": "execute_result"
    }
   ],
   "source": [
    "remove articulation 3"
   ]
  },
  {
   "cell_type": "code",
   "execution_count": 5,
   "metadata": {
    "collapsed": false
   },
   "outputs": [
    {
     "data": {
      "text/plain": [
       "5 worlds have been produced.\n",
       "\n",
       "1. World\n",
       "1997.Amauris_hyalites_subsp_makuyensis disjoint 1995.Amauris_damocles_subsp_hyalites\n",
       "1997.Amauris_damocles disjoint 1995.Amauris_damocles_subsp_makuyensis\n",
       "1997.Amauris_hyalites_subsp_hyalites disjoint 1995.Amauris_damocles_subsp_makuyensis\n",
       "1997.Amauris_hyalites disjoint 1995.Amauris_damocles_subsp_damocles\n",
       "1997.Amauris_hyalites_subsp_makuyensis disjoint 1995.Amauris_damocles_subsp_damocles\n",
       "1997.Amauris_hyalites_subsp_hyalites disjoint 1995.Amauris_damocles_subsp_damocles\n",
       "1997.Amauris_damocles disjoint 1995.Amauris_damocles_subsp_hyalites\n",
       "1997.Amauris_hyalites overlaps 1995.Amauris_damocles_subsp_hyalites\n",
       "1997.Amauris_hyalites_subsp_hyalites is_included_in 1995.Amauris_damocles\n",
       "1997.Amauris_hyalites_subsp_makuyensis is_included_in 1995.Amauris_damocles\n",
       "1997.Amauris_hyalites is_included_in 1995.Amauris_damocles\n",
       "1997.Amauris_damocles is_included_in 1995.Amauris_damocles\n",
       "1997.Amauris_hyalites_subsp_hyalites is_included_in 1995.Amauris_damocles_subsp_hyalites\n",
       "1997.Amauris_hyalites includes 1995.Amauris_damocles_subsp_makuyensis\n",
       "1997.Amauris_hyalites_subsp_makuyensis equals 1995.Amauris_damocles_subsp_makuyensis\n",
       "1997.Amauris_damocles equals 1995.Amauris_damocles_subsp_damocles\n",
       "\n",
       "2. World\n",
       "1997.Amauris_hyalites_subsp_makuyensis disjoint 1995.Amauris_damocles_subsp_hyalites\n",
       "1997.Amauris_damocles disjoint 1995.Amauris_damocles_subsp_makuyensis\n",
       "1997.Amauris_hyalites_subsp_hyalites disjoint 1995.Amauris_damocles_subsp_makuyensis\n",
       "1997.Amauris_hyalites disjoint 1995.Amauris_damocles_subsp_damocles\n",
       "1997.Amauris_hyalites_subsp_makuyensis disjoint 1995.Amauris_damocles_subsp_damocles\n",
       "1997.Amauris_hyalites_subsp_hyalites disjoint 1995.Amauris_damocles_subsp_damocles\n",
       "1997.Amauris_damocles disjoint 1995.Amauris_damocles_subsp_hyalites\n",
       "1997.Amauris_hyalites_subsp_hyalites is_included_in 1995.Amauris_damocles\n",
       "1997.Amauris_hyalites_subsp_makuyensis is_included_in 1995.Amauris_damocles\n",
       "1997.Amauris_hyalites is_included_in 1995.Amauris_damocles\n",
       "1997.Amauris_damocles is_included_in 1995.Amauris_damocles\n",
       "1997.Amauris_hyalites includes 1995.Amauris_damocles_subsp_hyalites\n",
       "1997.Amauris_hyalites includes 1995.Amauris_damocles_subsp_makuyensis\n",
       "1997.Amauris_hyalites_subsp_hyalites equals 1995.Amauris_damocles_subsp_hyalites\n",
       "1997.Amauris_hyalites_subsp_makuyensis equals 1995.Amauris_damocles_subsp_makuyensis\n",
       "1997.Amauris_damocles equals 1995.Amauris_damocles_subsp_damocles\n",
       "\n",
       "3. World\n",
       "1997.Amauris_hyalites_subsp_makuyensis disjoint 1995.Amauris_damocles_subsp_hyalites\n",
       "1997.Amauris_damocles disjoint 1995.Amauris_damocles_subsp_makuyensis\n",
       "1997.Amauris_hyalites_subsp_hyalites disjoint 1995.Amauris_damocles_subsp_makuyensis\n",
       "1997.Amauris_hyalites disjoint 1995.Amauris_damocles_subsp_damocles\n",
       "1997.Amauris_hyalites_subsp_makuyensis disjoint 1995.Amauris_damocles_subsp_damocles\n",
       "1997.Amauris_hyalites_subsp_hyalites disjoint 1995.Amauris_damocles_subsp_damocles\n",
       "1997.Amauris_damocles disjoint 1995.Amauris_damocles_subsp_hyalites\n",
       "1997.Amauris_hyalites overlaps 1995.Amauris_damocles_subsp_hyalites\n",
       "1997.Amauris_hyalites_subsp_hyalites overlaps 1995.Amauris_damocles\n",
       "1997.Amauris_hyalites overlaps 1995.Amauris_damocles\n",
       "1997.Amauris_hyalites_subsp_hyalites overlaps 1995.Amauris_damocles_subsp_hyalites\n",
       "1997.Amauris_hyalites_subsp_makuyensis is_included_in 1995.Amauris_damocles\n",
       "1997.Amauris_damocles is_included_in 1995.Amauris_damocles\n",
       "1997.Amauris_hyalites includes 1995.Amauris_damocles_subsp_makuyensis\n",
       "1997.Amauris_hyalites_subsp_makuyensis equals 1995.Amauris_damocles_subsp_makuyensis\n",
       "1997.Amauris_damocles equals 1995.Amauris_damocles_subsp_damocles\n",
       "\n",
       "4. World\n",
       "1997.Amauris_hyalites_subsp_makuyensis disjoint 1995.Amauris_damocles_subsp_hyalites\n",
       "1997.Amauris_damocles disjoint 1995.Amauris_damocles_subsp_makuyensis\n",
       "1997.Amauris_hyalites_subsp_hyalites disjoint 1995.Amauris_damocles_subsp_makuyensis\n",
       "1997.Amauris_hyalites disjoint 1995.Amauris_damocles_subsp_damocles\n",
       "1997.Amauris_hyalites_subsp_makuyensis disjoint 1995.Amauris_damocles_subsp_damocles\n",
       "1997.Amauris_hyalites_subsp_hyalites disjoint 1995.Amauris_damocles_subsp_damocles\n",
       "1997.Amauris_damocles disjoint 1995.Amauris_damocles_subsp_hyalites\n",
       "1997.Amauris_hyalites_subsp_hyalites overlaps 1995.Amauris_damocles\n",
       "1997.Amauris_hyalites overlaps 1995.Amauris_damocles\n",
       "1997.Amauris_hyalites_subsp_makuyensis is_included_in 1995.Amauris_damocles\n",
       "1997.Amauris_damocles is_included_in 1995.Amauris_damocles\n",
       "1997.Amauris_hyalites includes 1995.Amauris_damocles_subsp_hyalites\n",
       "1997.Amauris_hyalites_subsp_hyalites includes 1995.Amauris_damocles_subsp_hyalites\n",
       "1997.Amauris_hyalites includes 1995.Amauris_damocles_subsp_makuyensis\n",
       "1997.Amauris_hyalites_subsp_makuyensis equals 1995.Amauris_damocles_subsp_makuyensis\n",
       "1997.Amauris_damocles equals 1995.Amauris_damocles_subsp_damocles\n",
       "\n",
       "5. World\n",
       "1997.Amauris_hyalites disjoint 1995.Amauris_damocles_subsp_hyalites\n",
       "1997.Amauris_hyalites_subsp_hyalites disjoint 1995.Amauris_damocles\n",
       "1997.Amauris_hyalites_subsp_makuyensis disjoint 1995.Amauris_damocles_subsp_hyalites\n",
       "1997.Amauris_hyalites_subsp_hyalites disjoint 1995.Amauris_damocles_subsp_hyalites\n",
       "1997.Amauris_damocles disjoint 1995.Amauris_damocles_subsp_makuyensis\n",
       "1997.Amauris_hyalites_subsp_hyalites disjoint 1995.Amauris_damocles_subsp_makuyensis\n",
       "1997.Amauris_hyalites disjoint 1995.Amauris_damocles_subsp_damocles\n",
       "1997.Amauris_hyalites_subsp_makuyensis disjoint 1995.Amauris_damocles_subsp_damocles\n",
       "1997.Amauris_hyalites_subsp_hyalites disjoint 1995.Amauris_damocles_subsp_damocles\n",
       "1997.Amauris_damocles disjoint 1995.Amauris_damocles_subsp_hyalites\n",
       "1997.Amauris_hyalites overlaps 1995.Amauris_damocles\n",
       "1997.Amauris_hyalites_subsp_makuyensis is_included_in 1995.Amauris_damocles\n",
       "1997.Amauris_damocles is_included_in 1995.Amauris_damocles\n",
       "1997.Amauris_hyalites includes 1995.Amauris_damocles_subsp_makuyensis\n",
       "1997.Amauris_hyalites_subsp_makuyensis equals 1995.Amauris_damocles_subsp_makuyensis\n",
       "1997.Amauris_damocles equals 1995.Amauris_damocles_subsp_damocles"
      ]
     },
     "execution_count": 5,
     "metadata": {},
     "output_type": "execute_result"
    }
   ],
   "source": [
    "print worlds"
   ]
  },
  {
   "cell_type": "markdown",
   "metadata": {},
   "source": [
    "You can find a visualization of the most informative relations in an output file of reasoning commands that do a \"euler2 align\". Here this is the print worlds command, thus you can find the visualization for example via the <a target=\"_blank\" href=\"http://htmlpreview.github.io/?https://github.com/EulerProject/e3-demos/blob/master/demos/reasoning_over_taps/viewing_most_informative_relations/e3_data/index.html\">history</a> <a target=\"_blank\" href=\"http://htmlpreview.github.io/?https://github.com/EulerProject/e3-demos/blob/master/demos/reasoning_over_taps/viewing_most_informative_relations/e3_data/elastic_davinci/print_worlds/most_informative_relations.html\">here</a>."
   ]
  }
 ],
 "metadata": {
  "kernelspec": {
   "display_name": "e3",
   "language": "e3",
   "name": "e3-kernel"
  },
  "language_info": {
   "codemirror_mode": "",
   "file_extension": ".py",
   "mimetype": "",
   "name": "e3",
   "nbconvert_exporter": "",
   "pygments_lexer": "",
   "version": "1.0"
  }
 },
 "nbformat": 4,
 "nbformat_minor": 2
}
