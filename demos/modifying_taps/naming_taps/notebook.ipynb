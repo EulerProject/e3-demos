{
 "cells": [
  {
   "cell_type": "code",
   "execution_count": 37,
   "metadata": {
    "collapsed": false
   },
   "outputs": [
    {
     "data": {
      "text/plain": [
       "Tap: demo_butterflies (Note: 1997 has multiple roots (2))\n"
      ]
     },
     "execution_count": 37,
     "metadata": {},
     "output_type": "execute_result"
    }
   ],
   "source": [
    "use tap demo_butterflies"
   ]
  },
  {
   "cell_type": "code",
   "execution_count": 38,
   "metadata": {
    "collapsed": false
   },
   "outputs": [
    {
     "data": {
      "text/plain": [
       "Coverage:True\n",
       "Sibling Disjontness:True\n",
       "Regions:mnpw\n",
       "\n",
       "taxonomy 1997 D’Abrera\n",
       "(Amauris_hyalites Amauris_hyalites_subsp_hyalites Amauris_hyalites_subsp_makuyensis)\n",
       "(Amauris_damocles)\n",
       "\n",
       "taxonomy 1995 AckeryEtAl\n",
       "(Amauris_damocles Amauris_damocles_subsp_damocles Amauris_damocles_subsp_hyalites Amauris_damocles_subsp_makuyensis)\n",
       "\n",
       "articulation\n",
       "1. [1997.Amauris_damocles equals 1995.Amauris_damocles_subsp_damocles]\n",
       "2. [1997.Amauris_hyalites_subsp_makuyensis equals 1995.Amauris_damocles_subsp_makuyensis]\n",
       "3. [1997.Amauris_hyalites_subsp_hyalites is_included_in 1995.Amauris_damocles_subsp_hyalites]\n"
      ]
     },
     "execution_count": 38,
     "metadata": {},
     "output_type": "execute_result"
    }
   ],
   "source": [
    "print tap"
   ]
  },
  {
   "cell_type": "code",
   "execution_count": 39,
   "metadata": {
    "collapsed": false
   },
   "outputs": [
    {
     "data": {
      "text/plain": [
       "Tap: silly_heyrovsky (Note: 1997 has multiple roots (2))\n"
      ]
     },
     "execution_count": 39,
     "metadata": {},
     "output_type": "execute_result"
    }
   ],
   "source": [
    "remove articulation 3"
   ]
  },
  {
   "cell_type": "code",
   "execution_count": 40,
   "metadata": {
    "collapsed": false
   },
   "outputs": [
    {
     "data": {
      "text/plain": [
       "Coverage:True\n",
       "Sibling Disjontness:True\n",
       "Regions:mnpw\n",
       "\n",
       "taxonomy 1997 D’Abrera\n",
       "(Amauris_hyalites Amauris_hyalites_subsp_hyalites Amauris_hyalites_subsp_makuyensis)\n",
       "(Amauris_damocles)\n",
       "\n",
       "taxonomy 1995 AckeryEtAl\n",
       "(Amauris_damocles Amauris_damocles_subsp_damocles Amauris_damocles_subsp_hyalites Amauris_damocles_subsp_makuyensis)\n",
       "\n",
       "articulation\n",
       "1. [1997.Amauris_damocles equals 1995.Amauris_damocles_subsp_damocles]\n",
       "2. [1997.Amauris_hyalites_subsp_makuyensis equals 1995.Amauris_damocles_subsp_makuyensis]\n"
      ]
     },
     "execution_count": 40,
     "metadata": {},
     "output_type": "execute_result"
    }
   ],
   "source": [
    "print tap"
   ]
  },
  {
   "cell_type": "code",
   "execution_count": 41,
   "metadata": {
    "collapsed": false
   },
   "outputs": [
    {
     "data": {
      "text/plain": [
       "demo_abstract = ce342f0baa3cea7f44f30342616ab38034138f43\n",
       "demo_abstract_artrem = 89c49d02944fe1b1ae48e673fd446f2f873cecee\n",
       "demo_abstract_fourinone = 33d6609419ad66a33d470b73f8afd39593815437\n",
       "demo_abstract_zoomin = 82ee9127c48186b95bbd93914c7136f62e563ed9\n",
       "demo_birds = 6cd8c1bd2e77c9481efbe78f299cc823f871d514\n",
       "demo_butterflies = 92a7192e0a2144871192a081a1cc18ea091f6ead\n",
       "demo_fossilweevils = bb70d8e3b9fd40e2545f5189cf038f6d2e422925\n",
       "demo_oaks = 74fbaec69d9557d85e2fedb739f0c7b4e8477faa\n",
       "empty_tap = 10709a3bd1e0a0309db8f47251ea17d320f094a2\n",
       "silly_heyrovsky = 4d0e9bb996e4258945722737b0f069b34c007f89\n"
      ]
     },
     "execution_count": 41,
     "metadata": {},
     "output_type": "execute_result"
    }
   ],
   "source": [
    "print names"
   ]
  },
  {
   "cell_type": "code",
   "execution_count": 42,
   "metadata": {
    "collapsed": false
   },
   "outputs": [
    {
     "data": {
      "text/plain": [
       "Tap: butterfliesV1 (Note: 1997 has multiple roots (2))\n"
      ]
     },
     "execution_count": 42,
     "metadata": {},
     "output_type": "execute_result"
    }
   ],
   "source": [
    "name tap butterfliesV1"
   ]
  },
  {
   "cell_type": "code",
   "execution_count": 43,
   "metadata": {
    "collapsed": false
   },
   "outputs": [
    {
     "data": {
      "text/plain": [
       "butterfliesV1 = 4d0e9bb996e4258945722737b0f069b34c007f89\n",
       "demo_abstract = ce342f0baa3cea7f44f30342616ab38034138f43\n",
       "demo_abstract_artrem = 89c49d02944fe1b1ae48e673fd446f2f873cecee\n",
       "demo_abstract_fourinone = 33d6609419ad66a33d470b73f8afd39593815437\n",
       "demo_abstract_zoomin = 82ee9127c48186b95bbd93914c7136f62e563ed9\n",
       "demo_birds = 6cd8c1bd2e77c9481efbe78f299cc823f871d514\n",
       "demo_butterflies = 92a7192e0a2144871192a081a1cc18ea091f6ead\n",
       "demo_fossilweevils = bb70d8e3b9fd40e2545f5189cf038f6d2e422925\n",
       "demo_oaks = 74fbaec69d9557d85e2fedb739f0c7b4e8477faa\n",
       "empty_tap = 10709a3bd1e0a0309db8f47251ea17d320f094a2\n"
      ]
     },
     "execution_count": 43,
     "metadata": {},
     "output_type": "execute_result"
    }
   ],
   "source": [
    "print names"
   ]
  },
  {
   "cell_type": "code",
   "execution_count": 44,
   "metadata": {
    "collapsed": false
   },
   "outputs": [
    {
     "data": {
      "text/plain": [
       "Tap: gracious_ardinghelli (Note: 1997 has multiple roots (2))\n"
      ]
     },
     "execution_count": 44,
     "metadata": {},
     "output_type": "execute_result"
    }
   ],
   "source": [
    "add articulation 1997.Amauris_hyalites_subsp_makuyensis is_included_in 1995.Amauris_damocles_subsp_hyalites"
   ]
  },
  {
   "cell_type": "code",
   "execution_count": 45,
   "metadata": {
    "collapsed": false
   },
   "outputs": [
    {
     "data": {
      "text/plain": [
       "Coverage:True\n",
       "Sibling Disjontness:True\n",
       "Regions:mnpw\n",
       "\n",
       "taxonomy 1997 D’Abrera\n",
       "(Amauris_hyalites Amauris_hyalites_subsp_hyalites Amauris_hyalites_subsp_makuyensis)\n",
       "(Amauris_damocles)\n",
       "\n",
       "taxonomy 1995 AckeryEtAl\n",
       "(Amauris_damocles Amauris_damocles_subsp_damocles Amauris_damocles_subsp_hyalites Amauris_damocles_subsp_makuyensis)\n",
       "\n",
       "articulation\n",
       "1. [1997.Amauris_damocles equals 1995.Amauris_damocles_subsp_damocles]\n",
       "2. [1997.Amauris_hyalites_subsp_makuyensis equals 1995.Amauris_damocles_subsp_makuyensis]\n",
       "3. [1997.Amauris_hyalites_subsp_makuyensis is_included_in 1995.Amauris_damocles_subsp_hyalites]\n"
      ]
     },
     "execution_count": 45,
     "metadata": {},
     "output_type": "execute_result"
    }
   ],
   "source": [
    "print tap"
   ]
  },
  {
   "cell_type": "code",
   "execution_count": 46,
   "metadata": {
    "collapsed": false
   },
   "outputs": [
    {
     "data": {
      "text/plain": [
       "butterfliesV1 = 4d0e9bb996e4258945722737b0f069b34c007f89\n",
       "demo_abstract = ce342f0baa3cea7f44f30342616ab38034138f43\n",
       "demo_abstract_artrem = 89c49d02944fe1b1ae48e673fd446f2f873cecee\n",
       "demo_abstract_fourinone = 33d6609419ad66a33d470b73f8afd39593815437\n",
       "demo_abstract_zoomin = 82ee9127c48186b95bbd93914c7136f62e563ed9\n",
       "demo_birds = 6cd8c1bd2e77c9481efbe78f299cc823f871d514\n",
       "demo_butterflies = 92a7192e0a2144871192a081a1cc18ea091f6ead\n",
       "demo_fossilweevils = bb70d8e3b9fd40e2545f5189cf038f6d2e422925\n",
       "demo_oaks = 74fbaec69d9557d85e2fedb739f0c7b4e8477faa\n",
       "empty_tap = 10709a3bd1e0a0309db8f47251ea17d320f094a2\n",
       "gracious_ardinghelli = 6d691ab0fccbaec06205926ed53549997d56efc8\n"
      ]
     },
     "execution_count": 46,
     "metadata": {},
     "output_type": "execute_result"
    }
   ],
   "source": [
    "print names"
   ]
  },
  {
   "cell_type": "code",
   "execution_count": 47,
   "metadata": {
    "collapsed": false
   },
   "outputs": [
    {
     "data": {
      "text/plain": [
       "Tap: butterfliesV2 (Note: 1997 has multiple roots (2))\n"
      ]
     },
     "execution_count": 47,
     "metadata": {},
     "output_type": "execute_result"
    }
   ],
   "source": [
    "name tap butterfliesV2"
   ]
  },
  {
   "cell_type": "code",
   "execution_count": 48,
   "metadata": {
    "collapsed": false
   },
   "outputs": [
    {
     "data": {
      "text/plain": [
       "butterfliesV1 = 4d0e9bb996e4258945722737b0f069b34c007f89\n",
       "butterfliesV2 = 6d691ab0fccbaec06205926ed53549997d56efc8\n",
       "demo_abstract = ce342f0baa3cea7f44f30342616ab38034138f43\n",
       "demo_abstract_artrem = 89c49d02944fe1b1ae48e673fd446f2f873cecee\n",
       "demo_abstract_fourinone = 33d6609419ad66a33d470b73f8afd39593815437\n",
       "demo_abstract_zoomin = 82ee9127c48186b95bbd93914c7136f62e563ed9\n",
       "demo_birds = 6cd8c1bd2e77c9481efbe78f299cc823f871d514\n",
       "demo_butterflies = 92a7192e0a2144871192a081a1cc18ea091f6ead\n",
       "demo_fossilweevils = bb70d8e3b9fd40e2545f5189cf038f6d2e422925\n",
       "demo_oaks = 74fbaec69d9557d85e2fedb739f0c7b4e8477faa\n",
       "empty_tap = 10709a3bd1e0a0309db8f47251ea17d320f094a2\n"
      ]
     },
     "execution_count": 48,
     "metadata": {},
     "output_type": "execute_result"
    }
   ],
   "source": [
    "print names"
   ]
  },
  {
   "cell_type": "code",
   "execution_count": 49,
   "metadata": {
    "collapsed": false
   },
   "outputs": [
    {
     "data": {
      "text/plain": [
       "Tap: butterfliesV0 (Note: 1997 has multiple roots (2))\n"
      ]
     },
     "execution_count": 49,
     "metadata": {},
     "output_type": "execute_result"
    }
   ],
   "source": [
    "name tap butterfliesV0 demo_butterflies"
   ]
  },
  {
   "cell_type": "code",
   "execution_count": 50,
   "metadata": {
    "collapsed": false
   },
   "outputs": [
    {
     "data": {
      "text/plain": [
       "butterfliesV0 = 92a7192e0a2144871192a081a1cc18ea091f6ead\n",
       "butterfliesV1 = 4d0e9bb996e4258945722737b0f069b34c007f89\n",
       "butterfliesV2 = 6d691ab0fccbaec06205926ed53549997d56efc8\n",
       "demo_abstract = ce342f0baa3cea7f44f30342616ab38034138f43\n",
       "demo_abstract_artrem = 89c49d02944fe1b1ae48e673fd446f2f873cecee\n",
       "demo_abstract_fourinone = 33d6609419ad66a33d470b73f8afd39593815437\n",
       "demo_abstract_zoomin = 82ee9127c48186b95bbd93914c7136f62e563ed9\n",
       "demo_birds = 6cd8c1bd2e77c9481efbe78f299cc823f871d514\n",
       "demo_fossilweevils = bb70d8e3b9fd40e2545f5189cf038f6d2e422925\n",
       "demo_oaks = 74fbaec69d9557d85e2fedb739f0c7b4e8477faa\n",
       "empty_tap = 10709a3bd1e0a0309db8f47251ea17d320f094a2\n"
      ]
     },
     "execution_count": 50,
     "metadata": {},
     "output_type": "execute_result"
    }
   ],
   "source": [
    "print names"
   ]
  },
  {
   "cell_type": "code",
   "execution_count": 51,
   "metadata": {
    "collapsed": false
   },
   "outputs": [
    {
     "data": {
      "text/plain": [
       "Take a look at the produced graph."
      ]
     },
     "execution_count": 51,
     "metadata": {},
     "output_type": "execute_result"
    },
    {
     "data": {
      "image/svg+xml": [
       "<?xml version=\"1.0\" encoding=\"UTF-8\" standalone=\"no\"?>\n",
       "<!DOCTYPE svg PUBLIC \"-//W3C//DTD SVG 1.1//EN\"\n",
       " \"http://www.w3.org/Graphics/SVG/1.1/DTD/svg11.dtd\">\n",
       "<!-- Generated by graphviz version 2.38.0 (20140413.2041)\n",
       " -->\n",
       "<!-- Title: %3 Pages: 1 -->\n",
       "<svg width=\"1310pt\" height=\"187pt\"\n",
       " viewBox=\"0.00 0.00 1309.99 186.50\" xmlns=\"http://www.w3.org/2000/svg\" xmlns:xlink=\"http://www.w3.org/1999/xlink\">\n",
       "<g id=\"graph0\" class=\"graph\" transform=\"scale(1 1) rotate(0) translate(4 182.5)\">\n",
       "<title>%3</title>\n",
       "<polygon fill=\"white\" stroke=\"none\" points=\"-4,4 -4,-182.5 1305.99,-182.5 1305.99,4 -4,4\"/>\n",
       "<!-- 1995.Amauris_damocles -->\n",
       "<g id=\"node1\" class=\"node\"><title>1995.Amauris_damocles</title>\n",
       "<polygon fill=\"#ffffcc\" stroke=\"black\" points=\"1301.98,-61.5442 1301.98,-76.4558 1233.17,-87 1135.85,-87 1067.04,-76.4558 1067.04,-61.5442 1135.85,-51 1233.17,-51 1301.98,-61.5442\"/>\n",
       "<text text-anchor=\"middle\" x=\"1184.51\" y=\"-65.3\" font-family=\"Helvetica,sans-Serif\" font-size=\"14.00\">1995.Amauris_damocles</text>\n",
       "</g>\n",
       "<!-- 1995.Amauris_damocles_subsp_makuyensis -->\n",
       "<g id=\"node2\" class=\"node\"><title>1995.Amauris_damocles_subsp_makuyensis</title>\n",
       "<polygon fill=\"#ffffcc\" stroke=\"black\" points=\"1030.04,-61.5442 1030.04,-76.4558 910.523,-87 741.503,-87 621.987,-76.4558 621.987,-61.5442 741.503,-51 910.523,-51 1030.04,-61.5442\"/>\n",
       "<text text-anchor=\"middle\" x=\"826.013\" y=\"-65.3\" font-family=\"Helvetica,sans-Serif\" font-size=\"14.00\">1995.Amauris_damocles_subsp_makuyensis</text>\n",
       "</g>\n",
       "<!-- 1995.Amauris_damocles_subsp_makuyensis&#45;&gt;1995.Amauris_damocles -->\n",
       "<g id=\"edge1\" class=\"edge\"><title>1995.Amauris_damocles_subsp_makuyensis&#45;&gt;1995.Amauris_damocles</title>\n",
       "<path fill=\"none\" stroke=\"#000000\" d=\"M1030.25,-69C1039.24,-69 1048.15,-69 1056.87,-69\"/>\n",
       "<polygon fill=\"#000000\" stroke=\"#000000\" points=\"1057.03,-72.5001 1067.03,-69 1057.03,-65.5001 1057.03,-72.5001\"/>\n",
       "</g>\n",
       "<!-- 1995.Amauris_damocles_subsp_damocles -->\n",
       "<g id=\"node3\" class=\"node\"><title>1995.Amauris_damocles_subsp_damocles</title>\n",
       "<polygon fill=\"#ffffcc\" stroke=\"black\" points=\"1020.34,-15.5442 1020.34,-30.4558 906.506,-41 745.52,-41 631.685,-30.4558 631.685,-15.5442 745.52,-5 906.506,-5 1020.34,-15.5442\"/>\n",
       "<text text-anchor=\"middle\" x=\"826.013\" y=\"-19.3\" font-family=\"Helvetica,sans-Serif\" font-size=\"14.00\">1995.Amauris_damocles_subsp_damocles</text>\n",
       "</g>\n",
       "<!-- 1995.Amauris_damocles_subsp_damocles&#45;&gt;1995.Amauris_damocles -->\n",
       "<g id=\"edge3\" class=\"edge\"><title>1995.Amauris_damocles_subsp_damocles&#45;&gt;1995.Amauris_damocles</title>\n",
       "<path fill=\"none\" stroke=\"#000000\" d=\"M957.898,-36.2656C981.913,-38.9603 1006.74,-41.9197 1030.03,-45 1050.71,-47.7358 1072.9,-51.0092 1093.8,-54.2456\"/>\n",
       "<polygon fill=\"#000000\" stroke=\"#000000\" points=\"1093.53,-57.7452 1103.95,-55.8289 1094.61,-50.8289 1093.53,-57.7452\"/>\n",
       "</g>\n",
       "<!-- 1995.Amauris_damocles_subsp_hyalites -->\n",
       "<g id=\"node4\" class=\"node\"><title>1995.Amauris_damocles_subsp_hyalites</title>\n",
       "<polygon fill=\"#ffffcc\" stroke=\"black\" points=\"1011.05,-107.544 1011.05,-122.456 902.658,-133 749.368,-133 640.976,-122.456 640.976,-107.544 749.368,-97 902.658,-97 1011.05,-107.544\"/>\n",
       "<text text-anchor=\"middle\" x=\"826.013\" y=\"-111.3\" font-family=\"Helvetica,sans-Serif\" font-size=\"14.00\">1995.Amauris_damocles_subsp_hyalites</text>\n",
       "</g>\n",
       "<!-- 1995.Amauris_damocles_subsp_hyalites&#45;&gt;1995.Amauris_damocles -->\n",
       "<g id=\"edge2\" class=\"edge\"><title>1995.Amauris_damocles_subsp_hyalites&#45;&gt;1995.Amauris_damocles</title>\n",
       "<path fill=\"none\" stroke=\"#000000\" d=\"M954.912,-102.069C979.849,-99.2852 1005.78,-96.2082 1030.03,-93 1050.71,-90.2642 1072.9,-86.9908 1093.8,-83.7544\"/>\n",
       "<polygon fill=\"#000000\" stroke=\"#000000\" points=\"1094.61,-87.1711 1103.95,-82.1711 1093.53,-80.2548 1094.61,-87.1711\"/>\n",
       "</g>\n",
       "<!-- 1997.Amauris_hyalites_subsp_hyalites -->\n",
       "<g id=\"node5\" class=\"node\"><title>1997.Amauris_hyalites_subsp_hyalites</title>\n",
       "<polygon fill=\"#ccffcc\" stroke=\"black\" points=\"556,-135 305,-135 305,-99 556,-99 556,-135\"/>\n",
       "<text text-anchor=\"middle\" x=\"430.5\" y=\"-113.3\" font-family=\"Helvetica,sans-Serif\" font-size=\"14.00\">1997.Amauris_hyalites_subsp_hyalites</text>\n",
       "</g>\n",
       "<!-- 1997.Amauris_hyalites_subsp_hyalites&#45;&gt;1995.Amauris_damocles_subsp_hyalites -->\n",
       "<g id=\"edge6\" class=\"edge\"><title>1997.Amauris_hyalites_subsp_hyalites&#45;&gt;1995.Amauris_damocles_subsp_hyalites</title>\n",
       "<path fill=\"none\" stroke=\"#aa00ff\" stroke-dasharray=\"5,2\" d=\"M556.01,-116.367C583.03,-116.23 612.162,-116.082 640.93,-115.936\"/>\n",
       "<text text-anchor=\"middle\" x=\"595.5\" y=\"-119.8\" font-family=\"Times,serif\" font-size=\"14.00\">&lt;</text>\n",
       "</g>\n",
       "<!-- 1997.Amauris_hyalites_subsp_makuyensis -->\n",
       "<g id=\"node6\" class=\"node\"><title>1997.Amauris_hyalites_subsp_makuyensis</title>\n",
       "<polygon fill=\"#ccffcc\" stroke=\"black\" points=\"569,-89 292,-89 292,-53 569,-53 569,-89\"/>\n",
       "<text text-anchor=\"middle\" x=\"430.5\" y=\"-67.3\" font-family=\"Helvetica,sans-Serif\" font-size=\"14.00\">1997.Amauris_hyalites_subsp_makuyensis</text>\n",
       "</g>\n",
       "<!-- 1997.Amauris_hyalites_subsp_makuyensis&#45;&gt;1995.Amauris_damocles_subsp_makuyensis -->\n",
       "<g id=\"edge8\" class=\"edge\"><title>1997.Amauris_hyalites_subsp_makuyensis&#45;&gt;1995.Amauris_damocles_subsp_makuyensis</title>\n",
       "<path fill=\"none\" stroke=\"#aa00ff\" stroke-dasharray=\"5,2\" d=\"M569.132,-70.3005C586.198,-70.2138 603.918,-70.1237 621.71,-70.0333\"/>\n",
       "<text text-anchor=\"middle\" x=\"595.5\" y=\"-74.8\" font-family=\"Times,serif\" font-size=\"14.00\">==</text>\n",
       "</g>\n",
       "<!-- 1997.Amauris_hyalites -->\n",
       "<g id=\"node7\" class=\"node\"><title>1997.Amauris_hyalites</title>\n",
       "<polygon fill=\"#ccffcc\" stroke=\"black\" points=\"255,-109 101,-109 101,-73 255,-73 255,-109\"/>\n",
       "<text text-anchor=\"middle\" x=\"178\" y=\"-87.3\" font-family=\"Helvetica,sans-Serif\" font-size=\"14.00\">1997.Amauris_hyalites</text>\n",
       "</g>\n",
       "<!-- 1997.Amauris_hyalites&#45;&gt;1997.Amauris_hyalites_subsp_hyalites -->\n",
       "<g id=\"edge5\" class=\"edge\"><title>1997.Amauris_hyalites&#45;&gt;1997.Amauris_hyalites_subsp_hyalites</title>\n",
       "<path fill=\"none\" stroke=\"#000000\" d=\"M265.259,-99.953C278.002,-101.276 291.343,-102.66 304.678,-104.044\"/>\n",
       "<polygon fill=\"#000000\" stroke=\"#000000\" points=\"265.486,-96.4579 255.179,-98.9068 264.764,-103.421 265.486,-96.4579\"/>\n",
       "</g>\n",
       "<!-- 1997.Amauris_hyalites&#45;&gt;1997.Amauris_hyalites_subsp_makuyensis -->\n",
       "<g id=\"edge4\" class=\"edge\"><title>1997.Amauris_hyalites&#45;&gt;1997.Amauris_hyalites_subsp_makuyensis</title>\n",
       "<path fill=\"none\" stroke=\"#000000\" d=\"M265.165,-84.1206C273.789,-83.432 282.687,-82.7216 291.673,-82.0041\"/>\n",
       "<polygon fill=\"#000000\" stroke=\"#000000\" points=\"264.868,-80.633 255.179,-84.9179 265.425,-87.6108 264.868,-80.633\"/>\n",
       "</g>\n",
       "<!-- 1997.Amauris_damocles -->\n",
       "<g id=\"node8\" class=\"node\"><title>1997.Amauris_damocles</title>\n",
       "<polygon fill=\"#ccffcc\" stroke=\"black\" points=\"514,-36 347,-36 347,-0 514,-0 514,-36\"/>\n",
       "<text text-anchor=\"middle\" x=\"430.5\" y=\"-14.3\" font-family=\"Helvetica,sans-Serif\" font-size=\"14.00\">1997.Amauris_damocles</text>\n",
       "</g>\n",
       "<!-- 1997.Amauris_damocles&#45;&gt;1995.Amauris_damocles_subsp_damocles -->\n",
       "<g id=\"edge7\" class=\"edge\"><title>1997.Amauris_damocles&#45;&gt;1995.Amauris_damocles_subsp_damocles</title>\n",
       "<path fill=\"none\" stroke=\"#aa00ff\" stroke-dasharray=\"5,2\" d=\"M514.473,-19.0543C548.861,-19.4912 590.313,-20.0179 631.571,-20.5421\"/>\n",
       "<text text-anchor=\"middle\" x=\"595.5\" y=\"-24.8\" font-family=\"Times,serif\" font-size=\"14.00\">==</text>\n",
       "</g>\n",
       "<!-- Legend -->\n",
       "<g id=\"node9\" class=\"node\"><title>Legend</title>\n",
       "<polygon fill=\"white\" stroke=\"black\" points=\"83,-178.5 0,-178.5 0,-3.5 83,-3.5 83,-178.5\"/>\n",
       "<polygon fill=\"none\" stroke=\"black\" points=\"0.5,-153 0.5,-178 83.5,-178 83.5,-153 0.5,-153\"/>\n",
       "<text text-anchor=\"start\" x=\"19\" y=\"-161.8\" font-family=\"Arial Black\" font-size=\"14.00\"> Nodes</text>\n",
       "<polygon fill=\"#ffffcc\" stroke=\"none\" points=\"0.5,-128 0.5,-153 65.5,-153 65.5,-128 0.5,-128\"/>\n",
       "<polygon fill=\"none\" stroke=\"black\" points=\"0.5,-128 0.5,-153 65.5,-153 65.5,-128 0.5,-128\"/>\n",
       "<text text-anchor=\"start\" x=\"17.5\" y=\"-136.8\" font-family=\"Helvetica,sans-Serif\" font-size=\"14.00\">1995</text>\n",
       "<polygon fill=\"none\" stroke=\"black\" points=\"65.5,-128 65.5,-153 83.5,-153 83.5,-128 65.5,-128\"/>\n",
       "<text text-anchor=\"start\" x=\"70.5\" y=\"-136.8\" font-family=\"Helvetica,sans-Serif\" font-size=\"14.00\">4</text>\n",
       "<polygon fill=\"#ccffcc\" stroke=\"none\" points=\"0.5,-103 0.5,-128 65.5,-128 65.5,-103 0.5,-103\"/>\n",
       "<polygon fill=\"none\" stroke=\"black\" points=\"0.5,-103 0.5,-128 65.5,-128 65.5,-103 0.5,-103\"/>\n",
       "<text text-anchor=\"start\" x=\"17.5\" y=\"-111.8\" font-family=\"Helvetica,sans-Serif\" font-size=\"14.00\">1997</text>\n",
       "<polygon fill=\"none\" stroke=\"black\" points=\"65.5,-103 65.5,-128 83.5,-128 83.5,-103 65.5,-103\"/>\n",
       "<text text-anchor=\"start\" x=\"70.5\" y=\"-111.8\" font-family=\"Helvetica,sans-Serif\" font-size=\"14.00\">4</text>\n",
       "<polygon fill=\"none\" stroke=\"black\" points=\"0.5,-78 0.5,-103 83.5,-103 83.5,-78 0.5,-78\"/>\n",
       "<text text-anchor=\"start\" x=\"17.5\" y=\"-86.8\" font-family=\"Arial Black\" font-size=\"14.00\"> Edges </text>\n",
       "<polygon fill=\"none\" stroke=\"black\" points=\"0.5,-53 0.5,-78 65.5,-78 65.5,-53 0.5,-53\"/>\n",
       "<text text-anchor=\"start\" x=\"5.5\" y=\"-61.8\" font-family=\"Helvetica,sans-Serif\" font-size=\"14.00\" fill=\"#000000\">isa_1995</text>\n",
       "<polygon fill=\"none\" stroke=\"black\" points=\"65.5,-53 65.5,-78 83.5,-78 83.5,-53 65.5,-53\"/>\n",
       "<text text-anchor=\"start\" x=\"70.5\" y=\"-61.8\" font-family=\"Helvetica,sans-Serif\" font-size=\"14.00\">3</text>\n",
       "<polygon fill=\"none\" stroke=\"black\" points=\"0.5,-28 0.5,-53 65.5,-53 65.5,-28 0.5,-28\"/>\n",
       "<text text-anchor=\"start\" x=\"5.5\" y=\"-36.8\" font-family=\"Helvetica,sans-Serif\" font-size=\"14.00\" fill=\"#000000\">isa_1997</text>\n",
       "<polygon fill=\"none\" stroke=\"black\" points=\"65.5,-28 65.5,-53 83.5,-53 83.5,-28 65.5,-28\"/>\n",
       "<text text-anchor=\"start\" x=\"70.5\" y=\"-36.8\" font-family=\"Helvetica,sans-Serif\" font-size=\"14.00\">2</text>\n",
       "<polygon fill=\"none\" stroke=\"black\" points=\"0.5,-3 0.5,-28 65.5,-28 65.5,-3 0.5,-3\"/>\n",
       "<text text-anchor=\"start\" x=\"22\" y=\"-11.8\" font-family=\"Helvetica,sans-Serif\" font-size=\"14.00\" fill=\"#aa00ff\">Art.</text>\n",
       "<polygon fill=\"none\" stroke=\"black\" points=\"65.5,-3 65.5,-28 83.5,-28 83.5,-3 65.5,-3\"/>\n",
       "<text text-anchor=\"start\" x=\"70.5\" y=\"-11.8\" font-family=\"Helvetica,sans-Serif\" font-size=\"14.00\">3</text>\n",
       "</g>\n",
       "</g>\n",
       "</svg>\n"
      ]
     },
     "execution_count": 51,
     "metadata": {},
     "output_type": "execute_result"
    }
   ],
   "source": [
    "graph tap butterfliesV0"
   ]
  },
  {
   "cell_type": "code",
   "execution_count": 52,
   "metadata": {
    "collapsed": false
   },
   "outputs": [
    {
     "data": {
      "text/plain": [
       "Take a look at the produced graph."
      ]
     },
     "execution_count": 52,
     "metadata": {},
     "output_type": "execute_result"
    },
    {
     "data": {
      "image/svg+xml": [
       "<?xml version=\"1.0\" encoding=\"UTF-8\" standalone=\"no\"?>\n",
       "<!DOCTYPE svg PUBLIC \"-//W3C//DTD SVG 1.1//EN\"\n",
       " \"http://www.w3.org/Graphics/SVG/1.1/DTD/svg11.dtd\">\n",
       "<!-- Generated by graphviz version 2.38.0 (20140413.2041)\n",
       " -->\n",
       "<!-- Title: %3 Pages: 1 -->\n",
       "<svg width=\"1310pt\" height=\"224pt\"\n",
       " viewBox=\"0.00 0.00 1309.99 223.50\" xmlns=\"http://www.w3.org/2000/svg\" xmlns:xlink=\"http://www.w3.org/1999/xlink\">\n",
       "<g id=\"graph0\" class=\"graph\" transform=\"scale(1 1) rotate(0) translate(4 219.5)\">\n",
       "<title>%3</title>\n",
       "<polygon fill=\"white\" stroke=\"none\" points=\"-4,4 -4,-219.5 1305.99,-219.5 1305.99,4 -4,4\"/>\n",
       "<!-- 1995.Amauris_damocles -->\n",
       "<g id=\"node1\" class=\"node\"><title>1995.Amauris_damocles</title>\n",
       "<polygon fill=\"#ffffcc\" stroke=\"black\" points=\"1301.98,-51.5442 1301.98,-66.4558 1233.17,-77 1135.85,-77 1067.04,-66.4558 1067.04,-51.5442 1135.85,-41 1233.17,-41 1301.98,-51.5442\"/>\n",
       "<text text-anchor=\"middle\" x=\"1184.51\" y=\"-55.3\" font-family=\"Helvetica,sans-Serif\" font-size=\"14.00\">1995.Amauris_damocles</text>\n",
       "</g>\n",
       "<!-- 1995.Amauris_damocles_subsp_makuyensis -->\n",
       "<g id=\"node2\" class=\"node\"><title>1995.Amauris_damocles_subsp_makuyensis</title>\n",
       "<polygon fill=\"#ffffcc\" stroke=\"black\" points=\"1030.04,-97.5442 1030.04,-112.456 910.523,-123 741.503,-123 621.987,-112.456 621.987,-97.5442 741.503,-87 910.523,-87 1030.04,-97.5442\"/>\n",
       "<text text-anchor=\"middle\" x=\"826.013\" y=\"-101.3\" font-family=\"Helvetica,sans-Serif\" font-size=\"14.00\">1995.Amauris_damocles_subsp_makuyensis</text>\n",
       "</g>\n",
       "<!-- 1995.Amauris_damocles_subsp_makuyensis&#45;&gt;1995.Amauris_damocles -->\n",
       "<g id=\"edge1\" class=\"edge\"><title>1995.Amauris_damocles_subsp_makuyensis&#45;&gt;1995.Amauris_damocles</title>\n",
       "<path fill=\"none\" stroke=\"#000000\" d=\"M960.893,-91.3975C983.972,-88.7938 1007.71,-85.9524 1030.03,-83 1050.71,-80.2642 1072.9,-76.9908 1093.8,-73.7544\"/>\n",
       "<polygon fill=\"#000000\" stroke=\"#000000\" points=\"1094.61,-77.1711 1103.95,-72.1711 1093.53,-70.2548 1094.61,-77.1711\"/>\n",
       "</g>\n",
       "<!-- 1995.Amauris_damocles_subsp_damocles -->\n",
       "<g id=\"node3\" class=\"node\"><title>1995.Amauris_damocles_subsp_damocles</title>\n",
       "<polygon fill=\"#ffffcc\" stroke=\"black\" points=\"1020.34,-51.5442 1020.34,-66.4558 906.506,-77 745.52,-77 631.685,-66.4558 631.685,-51.5442 745.52,-41 906.506,-41 1020.34,-51.5442\"/>\n",
       "<text text-anchor=\"middle\" x=\"826.013\" y=\"-55.3\" font-family=\"Helvetica,sans-Serif\" font-size=\"14.00\">1995.Amauris_damocles_subsp_damocles</text>\n",
       "</g>\n",
       "<!-- 1995.Amauris_damocles_subsp_damocles&#45;&gt;1995.Amauris_damocles -->\n",
       "<g id=\"edge3\" class=\"edge\"><title>1995.Amauris_damocles_subsp_damocles&#45;&gt;1995.Amauris_damocles</title>\n",
       "<path fill=\"none\" stroke=\"#000000\" d=\"M1020.39,-59C1032.67,-59 1044.85,-59 1056.7,-59\"/>\n",
       "<polygon fill=\"#000000\" stroke=\"#000000\" points=\"1057.03,-62.5001 1067.03,-59 1057.03,-55.5001 1057.03,-62.5001\"/>\n",
       "</g>\n",
       "<!-- 1995.Amauris_damocles_subsp_hyalites -->\n",
       "<g id=\"node4\" class=\"node\"><title>1995.Amauris_damocles_subsp_hyalites</title>\n",
       "<polygon fill=\"#ffffcc\" stroke=\"black\" points=\"1011.05,-10.5442 1011.05,-25.4558 902.658,-36 749.368,-36 640.976,-25.4558 640.976,-10.5442 749.368,-3.55271e-15 902.658,-0 1011.05,-10.5442\"/>\n",
       "<text text-anchor=\"middle\" x=\"826.013\" y=\"-14.3\" font-family=\"Helvetica,sans-Serif\" font-size=\"14.00\">1995.Amauris_damocles_subsp_hyalites</text>\n",
       "</g>\n",
       "<!-- 1995.Amauris_damocles_subsp_hyalites&#45;&gt;1995.Amauris_damocles -->\n",
       "<g id=\"edge2\" class=\"edge\"><title>1995.Amauris_damocles_subsp_hyalites&#45;&gt;1995.Amauris_damocles</title>\n",
       "<path fill=\"none\" stroke=\"#000000\" d=\"M951.858,-31.2266C977.708,-34.0502 1004.76,-37.0672 1030.03,-40 1046.97,-41.9668 1064.96,-44.1275 1082.43,-46.2649\"/>\n",
       "<polygon fill=\"#000000\" stroke=\"#000000\" points=\"1082.29,-49.774 1092.64,-47.5189 1083.14,-42.8262 1082.29,-49.774\"/>\n",
       "</g>\n",
       "<!-- 1997.Amauris_hyalites -->\n",
       "<g id=\"node5\" class=\"node\"><title>1997.Amauris_hyalites</title>\n",
       "<polygon fill=\"#ccffcc\" stroke=\"black\" points=\"255,-146 101,-146 101,-110 255,-110 255,-146\"/>\n",
       "<text text-anchor=\"middle\" x=\"178\" y=\"-124.3\" font-family=\"Helvetica,sans-Serif\" font-size=\"14.00\">1997.Amauris_hyalites</text>\n",
       "</g>\n",
       "<!-- 1997.Amauris_hyalites_subsp_hyalites -->\n",
       "<g id=\"node6\" class=\"node\"><title>1997.Amauris_hyalites_subsp_hyalites</title>\n",
       "<polygon fill=\"#ccffcc\" stroke=\"black\" points=\"556,-166 305,-166 305,-130 556,-130 556,-166\"/>\n",
       "<text text-anchor=\"middle\" x=\"430.5\" y=\"-144.3\" font-family=\"Helvetica,sans-Serif\" font-size=\"14.00\">1997.Amauris_hyalites_subsp_hyalites</text>\n",
       "</g>\n",
       "<!-- 1997.Amauris_hyalites&#45;&gt;1997.Amauris_hyalites_subsp_hyalites -->\n",
       "<g id=\"edge5\" class=\"edge\"><title>1997.Amauris_hyalites&#45;&gt;1997.Amauris_hyalites_subsp_hyalites</title>\n",
       "<path fill=\"none\" stroke=\"#000000\" d=\"M265.259,-134.887C278.002,-135.904 291.343,-136.97 304.678,-138.034\"/>\n",
       "<polygon fill=\"#000000\" stroke=\"#000000\" points=\"265.425,-131.389 255.179,-134.082 264.868,-138.367 265.425,-131.389\"/>\n",
       "</g>\n",
       "<!-- 1997.Amauris_hyalites_subsp_makuyensis -->\n",
       "<g id=\"node7\" class=\"node\"><title>1997.Amauris_hyalites_subsp_makuyensis</title>\n",
       "<polygon fill=\"#ccffcc\" stroke=\"black\" points=\"569,-125 292,-125 292,-89 569,-89 569,-125\"/>\n",
       "<text text-anchor=\"middle\" x=\"430.5\" y=\"-103.3\" font-family=\"Helvetica,sans-Serif\" font-size=\"14.00\">1997.Amauris_hyalites_subsp_makuyensis</text>\n",
       "</g>\n",
       "<!-- 1997.Amauris_hyalites&#45;&gt;1997.Amauris_hyalites_subsp_makuyensis -->\n",
       "<g id=\"edge4\" class=\"edge\"><title>1997.Amauris_hyalites&#45;&gt;1997.Amauris_hyalites_subsp_makuyensis</title>\n",
       "<path fill=\"none\" stroke=\"#000000\" d=\"M265.165,-120.777C273.789,-120.054 282.687,-119.308 291.673,-118.554\"/>\n",
       "<polygon fill=\"#000000\" stroke=\"#000000\" points=\"264.851,-117.291 255.179,-121.614 265.436,-124.266 264.851,-117.291\"/>\n",
       "</g>\n",
       "<!-- 1997.Amauris_hyalites_subsp_makuyensis&#45;&gt;1995.Amauris_damocles_subsp_makuyensis -->\n",
       "<g id=\"edge7\" class=\"edge\"><title>1997.Amauris_hyalites_subsp_makuyensis&#45;&gt;1995.Amauris_damocles_subsp_makuyensis</title>\n",
       "<path fill=\"none\" stroke=\"#aa00ff\" stroke-dasharray=\"5,2\" d=\"M569.132,-106.3C586.198,-106.214 603.918,-106.124 621.71,-106.033\"/>\n",
       "<text text-anchor=\"middle\" x=\"595.5\" y=\"-109.8\" font-family=\"Times,serif\" font-size=\"14.00\">==</text>\n",
       "</g>\n",
       "<!-- 1997.Amauris_damocles -->\n",
       "<g id=\"node8\" class=\"node\"><title>1997.Amauris_damocles</title>\n",
       "<polygon fill=\"#ccffcc\" stroke=\"black\" points=\"514,-74 347,-74 347,-38 514,-38 514,-74\"/>\n",
       "<text text-anchor=\"middle\" x=\"430.5\" y=\"-52.3\" font-family=\"Helvetica,sans-Serif\" font-size=\"14.00\">1997.Amauris_damocles</text>\n",
       "</g>\n",
       "<!-- 1997.Amauris_damocles&#45;&gt;1995.Amauris_damocles_subsp_damocles -->\n",
       "<g id=\"edge6\" class=\"edge\"><title>1997.Amauris_damocles&#45;&gt;1995.Amauris_damocles_subsp_damocles</title>\n",
       "<path fill=\"none\" stroke=\"#aa00ff\" stroke-dasharray=\"5,2\" d=\"M514.473,-56.6326C548.861,-56.8947 590.313,-57.2107 631.571,-57.5253\"/>\n",
       "<text text-anchor=\"middle\" x=\"595.5\" y=\"-61.8\" font-family=\"Times,serif\" font-size=\"14.00\">==</text>\n",
       "</g>\n",
       "<!-- Legend -->\n",
       "<g id=\"node9\" class=\"node\"><title>Legend</title>\n",
       "<polygon fill=\"white\" stroke=\"black\" points=\"83,-215.5 0,-215.5 0,-40.5 83,-40.5 83,-215.5\"/>\n",
       "<polygon fill=\"none\" stroke=\"black\" points=\"0.5,-190 0.5,-215 83.5,-215 83.5,-190 0.5,-190\"/>\n",
       "<text text-anchor=\"start\" x=\"19\" y=\"-198.8\" font-family=\"Arial Black\" font-size=\"14.00\"> Nodes</text>\n",
       "<polygon fill=\"#ffffcc\" stroke=\"none\" points=\"0.5,-165 0.5,-190 65.5,-190 65.5,-165 0.5,-165\"/>\n",
       "<polygon fill=\"none\" stroke=\"black\" points=\"0.5,-165 0.5,-190 65.5,-190 65.5,-165 0.5,-165\"/>\n",
       "<text text-anchor=\"start\" x=\"17.5\" y=\"-173.8\" font-family=\"Helvetica,sans-Serif\" font-size=\"14.00\">1995</text>\n",
       "<polygon fill=\"none\" stroke=\"black\" points=\"65.5,-165 65.5,-190 83.5,-190 83.5,-165 65.5,-165\"/>\n",
       "<text text-anchor=\"start\" x=\"70.5\" y=\"-173.8\" font-family=\"Helvetica,sans-Serif\" font-size=\"14.00\">4</text>\n",
       "<polygon fill=\"#ccffcc\" stroke=\"none\" points=\"0.5,-140 0.5,-165 65.5,-165 65.5,-140 0.5,-140\"/>\n",
       "<polygon fill=\"none\" stroke=\"black\" points=\"0.5,-140 0.5,-165 65.5,-165 65.5,-140 0.5,-140\"/>\n",
       "<text text-anchor=\"start\" x=\"17.5\" y=\"-148.8\" font-family=\"Helvetica,sans-Serif\" font-size=\"14.00\">1997</text>\n",
       "<polygon fill=\"none\" stroke=\"black\" points=\"65.5,-140 65.5,-165 83.5,-165 83.5,-140 65.5,-140\"/>\n",
       "<text text-anchor=\"start\" x=\"70.5\" y=\"-148.8\" font-family=\"Helvetica,sans-Serif\" font-size=\"14.00\">4</text>\n",
       "<polygon fill=\"none\" stroke=\"black\" points=\"0.5,-115 0.5,-140 83.5,-140 83.5,-115 0.5,-115\"/>\n",
       "<text text-anchor=\"start\" x=\"17.5\" y=\"-123.8\" font-family=\"Arial Black\" font-size=\"14.00\"> Edges </text>\n",
       "<polygon fill=\"none\" stroke=\"black\" points=\"0.5,-90 0.5,-115 65.5,-115 65.5,-90 0.5,-90\"/>\n",
       "<text text-anchor=\"start\" x=\"5.5\" y=\"-98.8\" font-family=\"Helvetica,sans-Serif\" font-size=\"14.00\" fill=\"#000000\">isa_1995</text>\n",
       "<polygon fill=\"none\" stroke=\"black\" points=\"65.5,-90 65.5,-115 83.5,-115 83.5,-90 65.5,-90\"/>\n",
       "<text text-anchor=\"start\" x=\"70.5\" y=\"-98.8\" font-family=\"Helvetica,sans-Serif\" font-size=\"14.00\">3</text>\n",
       "<polygon fill=\"none\" stroke=\"black\" points=\"0.5,-65 0.5,-90 65.5,-90 65.5,-65 0.5,-65\"/>\n",
       "<text text-anchor=\"start\" x=\"5.5\" y=\"-73.8\" font-family=\"Helvetica,sans-Serif\" font-size=\"14.00\" fill=\"#000000\">isa_1997</text>\n",
       "<polygon fill=\"none\" stroke=\"black\" points=\"65.5,-65 65.5,-90 83.5,-90 83.5,-65 65.5,-65\"/>\n",
       "<text text-anchor=\"start\" x=\"70.5\" y=\"-73.8\" font-family=\"Helvetica,sans-Serif\" font-size=\"14.00\">2</text>\n",
       "<polygon fill=\"none\" stroke=\"black\" points=\"0.5,-40 0.5,-65 65.5,-65 65.5,-40 0.5,-40\"/>\n",
       "<text text-anchor=\"start\" x=\"22\" y=\"-48.8\" font-family=\"Helvetica,sans-Serif\" font-size=\"14.00\" fill=\"#aa00ff\">Art.</text>\n",
       "<polygon fill=\"none\" stroke=\"black\" points=\"65.5,-40 65.5,-65 83.5,-65 83.5,-40 65.5,-40\"/>\n",
       "<text text-anchor=\"start\" x=\"70.5\" y=\"-48.8\" font-family=\"Helvetica,sans-Serif\" font-size=\"14.00\">2</text>\n",
       "</g>\n",
       "</g>\n",
       "</svg>\n"
      ]
     },
     "execution_count": 52,
     "metadata": {},
     "output_type": "execute_result"
    }
   ],
   "source": [
    "graph tap butterfliesV1"
   ]
  },
  {
   "cell_type": "code",
   "execution_count": 53,
   "metadata": {
    "collapsed": false
   },
   "outputs": [
    {
     "data": {
      "text/plain": [
       "Take a look at the produced graph."
      ]
     },
     "execution_count": 53,
     "metadata": {},
     "output_type": "execute_result"
    },
    {
     "data": {
      "image/svg+xml": [
       "<?xml version=\"1.0\" encoding=\"UTF-8\" standalone=\"no\"?>\n",
       "<!DOCTYPE svg PUBLIC \"-//W3C//DTD SVG 1.1//EN\"\n",
       " \"http://www.w3.org/Graphics/SVG/1.1/DTD/svg11.dtd\">\n",
       "<!-- Generated by graphviz version 2.38.0 (20140413.2041)\n",
       " -->\n",
       "<!-- Title: %3 Pages: 1 -->\n",
       "<svg width=\"1310pt\" height=\"211pt\"\n",
       " viewBox=\"0.00 0.00 1309.99 210.50\" xmlns=\"http://www.w3.org/2000/svg\" xmlns:xlink=\"http://www.w3.org/1999/xlink\">\n",
       "<g id=\"graph0\" class=\"graph\" transform=\"scale(1 1) rotate(0) translate(4 206.5)\">\n",
       "<title>%3</title>\n",
       "<polygon fill=\"white\" stroke=\"none\" points=\"-4,4 -4,-206.5 1305.99,-206.5 1305.99,4 -4,4\"/>\n",
       "<!-- 1995.Amauris_damocles -->\n",
       "<g id=\"node1\" class=\"node\"><title>1995.Amauris_damocles</title>\n",
       "<polygon fill=\"#ffffcc\" stroke=\"black\" points=\"1301.98,-61.5442 1301.98,-76.4558 1233.17,-87 1135.85,-87 1067.04,-76.4558 1067.04,-61.5442 1135.85,-51 1233.17,-51 1301.98,-61.5442\"/>\n",
       "<text text-anchor=\"middle\" x=\"1184.51\" y=\"-65.3\" font-family=\"Helvetica,sans-Serif\" font-size=\"14.00\">1995.Amauris_damocles</text>\n",
       "</g>\n",
       "<!-- 1995.Amauris_damocles_subsp_makuyensis -->\n",
       "<g id=\"node2\" class=\"node\"><title>1995.Amauris_damocles_subsp_makuyensis</title>\n",
       "<polygon fill=\"#ffffcc\" stroke=\"black\" points=\"1030.04,-107.544 1030.04,-122.456 910.523,-133 741.503,-133 621.987,-122.456 621.987,-107.544 741.503,-97 910.523,-97 1030.04,-107.544\"/>\n",
       "<text text-anchor=\"middle\" x=\"826.013\" y=\"-111.3\" font-family=\"Helvetica,sans-Serif\" font-size=\"14.00\">1995.Amauris_damocles_subsp_makuyensis</text>\n",
       "</g>\n",
       "<!-- 1995.Amauris_damocles_subsp_makuyensis&#45;&gt;1995.Amauris_damocles -->\n",
       "<g id=\"edge1\" class=\"edge\"><title>1995.Amauris_damocles_subsp_makuyensis&#45;&gt;1995.Amauris_damocles</title>\n",
       "<path fill=\"none\" stroke=\"#000000\" d=\"M960.893,-101.398C983.972,-98.7938 1007.71,-95.9524 1030.03,-93 1050.71,-90.2642 1072.9,-86.9908 1093.8,-83.7544\"/>\n",
       "<polygon fill=\"#000000\" stroke=\"#000000\" points=\"1094.61,-87.1711 1103.95,-82.1711 1093.53,-80.2548 1094.61,-87.1711\"/>\n",
       "</g>\n",
       "<!-- 1995.Amauris_damocles_subsp_damocles -->\n",
       "<g id=\"node3\" class=\"node\"><title>1995.Amauris_damocles_subsp_damocles</title>\n",
       "<polygon fill=\"#ffffcc\" stroke=\"black\" points=\"1020.34,-15.5442 1020.34,-30.4558 906.506,-41 745.52,-41 631.685,-30.4558 631.685,-15.5442 745.52,-5 906.506,-5 1020.34,-15.5442\"/>\n",
       "<text text-anchor=\"middle\" x=\"826.013\" y=\"-19.3\" font-family=\"Helvetica,sans-Serif\" font-size=\"14.00\">1995.Amauris_damocles_subsp_damocles</text>\n",
       "</g>\n",
       "<!-- 1995.Amauris_damocles_subsp_damocles&#45;&gt;1995.Amauris_damocles -->\n",
       "<g id=\"edge3\" class=\"edge\"><title>1995.Amauris_damocles_subsp_damocles&#45;&gt;1995.Amauris_damocles</title>\n",
       "<path fill=\"none\" stroke=\"#000000\" d=\"M957.898,-36.2656C981.913,-38.9603 1006.74,-41.9197 1030.03,-45 1050.71,-47.7358 1072.9,-51.0092 1093.8,-54.2456\"/>\n",
       "<polygon fill=\"#000000\" stroke=\"#000000\" points=\"1093.53,-57.7452 1103.95,-55.8289 1094.61,-50.8289 1093.53,-57.7452\"/>\n",
       "</g>\n",
       "<!-- 1995.Amauris_damocles_subsp_hyalites -->\n",
       "<g id=\"node4\" class=\"node\"><title>1995.Amauris_damocles_subsp_hyalites</title>\n",
       "<polygon fill=\"#ffffcc\" stroke=\"black\" points=\"1011.05,-61.5442 1011.05,-76.4558 902.658,-87 749.368,-87 640.976,-76.4558 640.976,-61.5442 749.368,-51 902.658,-51 1011.05,-61.5442\"/>\n",
       "<text text-anchor=\"middle\" x=\"826.013\" y=\"-65.3\" font-family=\"Helvetica,sans-Serif\" font-size=\"14.00\">1995.Amauris_damocles_subsp_hyalites</text>\n",
       "</g>\n",
       "<!-- 1995.Amauris_damocles_subsp_hyalites&#45;&gt;1995.Amauris_damocles -->\n",
       "<g id=\"edge2\" class=\"edge\"><title>1995.Amauris_damocles_subsp_hyalites&#45;&gt;1995.Amauris_damocles</title>\n",
       "<path fill=\"none\" stroke=\"#000000\" d=\"M1011.27,-69C1026.6,-69 1041.88,-69 1056.65,-69\"/>\n",
       "<polygon fill=\"#000000\" stroke=\"#000000\" points=\"1056.78,-72.5001 1066.78,-69 1056.78,-65.5001 1056.78,-72.5001\"/>\n",
       "</g>\n",
       "<!-- 1997.Amauris_hyalites_subsp_hyalites -->\n",
       "<g id=\"node5\" class=\"node\"><title>1997.Amauris_hyalites_subsp_hyalites</title>\n",
       "<polygon fill=\"#ccffcc\" stroke=\"black\" points=\"556,-153 305,-153 305,-117 556,-117 556,-153\"/>\n",
       "<text text-anchor=\"middle\" x=\"430.5\" y=\"-131.3\" font-family=\"Helvetica,sans-Serif\" font-size=\"14.00\">1997.Amauris_hyalites_subsp_hyalites</text>\n",
       "</g>\n",
       "<!-- 1997.Amauris_hyalites_subsp_makuyensis -->\n",
       "<g id=\"node6\" class=\"node\"><title>1997.Amauris_hyalites_subsp_makuyensis</title>\n",
       "<polygon fill=\"#ccffcc\" stroke=\"black\" points=\"569,-112 292,-112 292,-76 569,-76 569,-112\"/>\n",
       "<text text-anchor=\"middle\" x=\"430.5\" y=\"-90.3\" font-family=\"Helvetica,sans-Serif\" font-size=\"14.00\">1997.Amauris_hyalites_subsp_makuyensis</text>\n",
       "</g>\n",
       "<!-- 1997.Amauris_hyalites_subsp_makuyensis&#45;&gt;1995.Amauris_damocles_subsp_makuyensis -->\n",
       "<g id=\"edge7\" class=\"edge\"><title>1997.Amauris_hyalites_subsp_makuyensis&#45;&gt;1995.Amauris_damocles_subsp_makuyensis</title>\n",
       "<path fill=\"none\" stroke=\"#aa00ff\" stroke-dasharray=\"5,2\" d=\"M569.132,-101.345C593.844,-102.664 619.928,-104.056 645.615,-105.426\"/>\n",
       "<text text-anchor=\"middle\" x=\"595.5\" y=\"-107.8\" font-family=\"Times,serif\" font-size=\"14.00\">==</text>\n",
       "</g>\n",
       "<!-- 1997.Amauris_hyalites_subsp_makuyensis&#45;&gt;1995.Amauris_damocles_subsp_hyalites -->\n",
       "<g id=\"edge8\" class=\"edge\"><title>1997.Amauris_hyalites_subsp_makuyensis&#45;&gt;1995.Amauris_damocles_subsp_hyalites</title>\n",
       "<path fill=\"none\" stroke=\"#aa00ff\" stroke-dasharray=\"5,2\" d=\"M569.282,-85.13C575.269,-84.7476 581.196,-84.3695 587,-84 612.722,-82.3624 640.008,-80.6343 666.576,-78.9565\"/>\n",
       "<text text-anchor=\"middle\" x=\"595.5\" y=\"-87.8\" font-family=\"Times,serif\" font-size=\"14.00\">&lt;</text>\n",
       "</g>\n",
       "<!-- 1997.Amauris_hyalites -->\n",
       "<g id=\"node7\" class=\"node\"><title>1997.Amauris_hyalites</title>\n",
       "<polygon fill=\"#ccffcc\" stroke=\"black\" points=\"255,-133 101,-133 101,-97 255,-97 255,-133\"/>\n",
       "<text text-anchor=\"middle\" x=\"178\" y=\"-111.3\" font-family=\"Helvetica,sans-Serif\" font-size=\"14.00\">1997.Amauris_hyalites</text>\n",
       "</g>\n",
       "<!-- 1997.Amauris_hyalites&#45;&gt;1997.Amauris_hyalites_subsp_hyalites -->\n",
       "<g id=\"edge5\" class=\"edge\"><title>1997.Amauris_hyalites&#45;&gt;1997.Amauris_hyalites_subsp_hyalites</title>\n",
       "<path fill=\"none\" stroke=\"#000000\" d=\"M265.259,-121.887C278.002,-122.904 291.343,-123.97 304.678,-125.034\"/>\n",
       "<polygon fill=\"#000000\" stroke=\"#000000\" points=\"265.425,-118.389 255.179,-121.082 264.868,-125.367 265.425,-118.389\"/>\n",
       "</g>\n",
       "<!-- 1997.Amauris_hyalites&#45;&gt;1997.Amauris_hyalites_subsp_makuyensis -->\n",
       "<g id=\"edge4\" class=\"edge\"><title>1997.Amauris_hyalites&#45;&gt;1997.Amauris_hyalites_subsp_makuyensis</title>\n",
       "<path fill=\"none\" stroke=\"#000000\" d=\"M265.165,-107.777C273.789,-107.054 282.687,-106.308 291.673,-105.554\"/>\n",
       "<polygon fill=\"#000000\" stroke=\"#000000\" points=\"264.851,-104.291 255.179,-108.614 265.436,-111.266 264.851,-104.291\"/>\n",
       "</g>\n",
       "<!-- 1997.Amauris_damocles -->\n",
       "<g id=\"node8\" class=\"node\"><title>1997.Amauris_damocles</title>\n",
       "<polygon fill=\"#ccffcc\" stroke=\"black\" points=\"514,-36 347,-36 347,-0 514,-0 514,-36\"/>\n",
       "<text text-anchor=\"middle\" x=\"430.5\" y=\"-14.3\" font-family=\"Helvetica,sans-Serif\" font-size=\"14.00\">1997.Amauris_damocles</text>\n",
       "</g>\n",
       "<!-- 1997.Amauris_damocles&#45;&gt;1995.Amauris_damocles_subsp_damocles -->\n",
       "<g id=\"edge6\" class=\"edge\"><title>1997.Amauris_damocles&#45;&gt;1995.Amauris_damocles_subsp_damocles</title>\n",
       "<path fill=\"none\" stroke=\"#aa00ff\" stroke-dasharray=\"5,2\" d=\"M514.473,-19.0543C548.861,-19.4912 590.313,-20.0179 631.571,-20.5421\"/>\n",
       "<text text-anchor=\"middle\" x=\"595.5\" y=\"-24.8\" font-family=\"Times,serif\" font-size=\"14.00\">==</text>\n",
       "</g>\n",
       "<!-- Legend -->\n",
       "<g id=\"node9\" class=\"node\"><title>Legend</title>\n",
       "<polygon fill=\"white\" stroke=\"black\" points=\"83,-202.5 0,-202.5 0,-27.5 83,-27.5 83,-202.5\"/>\n",
       "<polygon fill=\"none\" stroke=\"black\" points=\"0.5,-177 0.5,-202 83.5,-202 83.5,-177 0.5,-177\"/>\n",
       "<text text-anchor=\"start\" x=\"19\" y=\"-185.8\" font-family=\"Arial Black\" font-size=\"14.00\"> Nodes</text>\n",
       "<polygon fill=\"#ffffcc\" stroke=\"none\" points=\"0.5,-152 0.5,-177 65.5,-177 65.5,-152 0.5,-152\"/>\n",
       "<polygon fill=\"none\" stroke=\"black\" points=\"0.5,-152 0.5,-177 65.5,-177 65.5,-152 0.5,-152\"/>\n",
       "<text text-anchor=\"start\" x=\"17.5\" y=\"-160.8\" font-family=\"Helvetica,sans-Serif\" font-size=\"14.00\">1995</text>\n",
       "<polygon fill=\"none\" stroke=\"black\" points=\"65.5,-152 65.5,-177 83.5,-177 83.5,-152 65.5,-152\"/>\n",
       "<text text-anchor=\"start\" x=\"70.5\" y=\"-160.8\" font-family=\"Helvetica,sans-Serif\" font-size=\"14.00\">4</text>\n",
       "<polygon fill=\"#ccffcc\" stroke=\"none\" points=\"0.5,-127 0.5,-152 65.5,-152 65.5,-127 0.5,-127\"/>\n",
       "<polygon fill=\"none\" stroke=\"black\" points=\"0.5,-127 0.5,-152 65.5,-152 65.5,-127 0.5,-127\"/>\n",
       "<text text-anchor=\"start\" x=\"17.5\" y=\"-135.8\" font-family=\"Helvetica,sans-Serif\" font-size=\"14.00\">1997</text>\n",
       "<polygon fill=\"none\" stroke=\"black\" points=\"65.5,-127 65.5,-152 83.5,-152 83.5,-127 65.5,-127\"/>\n",
       "<text text-anchor=\"start\" x=\"70.5\" y=\"-135.8\" font-family=\"Helvetica,sans-Serif\" font-size=\"14.00\">4</text>\n",
       "<polygon fill=\"none\" stroke=\"black\" points=\"0.5,-102 0.5,-127 83.5,-127 83.5,-102 0.5,-102\"/>\n",
       "<text text-anchor=\"start\" x=\"17.5\" y=\"-110.8\" font-family=\"Arial Black\" font-size=\"14.00\"> Edges </text>\n",
       "<polygon fill=\"none\" stroke=\"black\" points=\"0.5,-77 0.5,-102 65.5,-102 65.5,-77 0.5,-77\"/>\n",
       "<text text-anchor=\"start\" x=\"5.5\" y=\"-85.8\" font-family=\"Helvetica,sans-Serif\" font-size=\"14.00\" fill=\"#000000\">isa_1995</text>\n",
       "<polygon fill=\"none\" stroke=\"black\" points=\"65.5,-77 65.5,-102 83.5,-102 83.5,-77 65.5,-77\"/>\n",
       "<text text-anchor=\"start\" x=\"70.5\" y=\"-85.8\" font-family=\"Helvetica,sans-Serif\" font-size=\"14.00\">3</text>\n",
       "<polygon fill=\"none\" stroke=\"black\" points=\"0.5,-52 0.5,-77 65.5,-77 65.5,-52 0.5,-52\"/>\n",
       "<text text-anchor=\"start\" x=\"5.5\" y=\"-60.8\" font-family=\"Helvetica,sans-Serif\" font-size=\"14.00\" fill=\"#000000\">isa_1997</text>\n",
       "<polygon fill=\"none\" stroke=\"black\" points=\"65.5,-52 65.5,-77 83.5,-77 83.5,-52 65.5,-52\"/>\n",
       "<text text-anchor=\"start\" x=\"70.5\" y=\"-60.8\" font-family=\"Helvetica,sans-Serif\" font-size=\"14.00\">2</text>\n",
       "<polygon fill=\"none\" stroke=\"black\" points=\"0.5,-27 0.5,-52 65.5,-52 65.5,-27 0.5,-27\"/>\n",
       "<text text-anchor=\"start\" x=\"22\" y=\"-35.8\" font-family=\"Helvetica,sans-Serif\" font-size=\"14.00\" fill=\"#aa00ff\">Art.</text>\n",
       "<polygon fill=\"none\" stroke=\"black\" points=\"65.5,-27 65.5,-52 83.5,-52 83.5,-27 65.5,-27\"/>\n",
       "<text text-anchor=\"start\" x=\"70.5\" y=\"-35.8\" font-family=\"Helvetica,sans-Serif\" font-size=\"14.00\">3</text>\n",
       "</g>\n",
       "</g>\n",
       "</svg>\n"
      ]
     },
     "execution_count": 53,
     "metadata": {},
     "output_type": "execute_result"
    }
   ],
   "source": [
    "graph tap butterfliesV2"
   ]
  },
  {
   "cell_type": "code",
   "execution_count": 54,
   "metadata": {
    "collapsed": false
   },
   "outputs": [
    {
     "data": {
      "text/plain": [
       "Tap: butterfliesV1 (Note: 1997 has multiple roots (2))\n"
      ]
     },
     "execution_count": 54,
     "metadata": {},
     "output_type": "execute_result"
    }
   ],
   "source": [
    "use tap butterfliesV1"
   ]
  },
  {
   "cell_type": "code",
   "execution_count": 55,
   "metadata": {
    "collapsed": false
   },
   "outputs": [
    {
     "data": {
      "text/plain": [
       "Coverage:True\n",
       "Sibling Disjontness:True\n",
       "Regions:mnpw\n",
       "\n",
       "taxonomy 1997 D’Abrera\n",
       "(Amauris_hyalites Amauris_hyalites_subsp_hyalites Amauris_hyalites_subsp_makuyensis)\n",
       "(Amauris_damocles)\n",
       "\n",
       "taxonomy 1995 AckeryEtAl\n",
       "(Amauris_damocles Amauris_damocles_subsp_damocles Amauris_damocles_subsp_hyalites Amauris_damocles_subsp_makuyensis)\n",
       "\n",
       "articulation\n",
       "1. [1997.Amauris_damocles equals 1995.Amauris_damocles_subsp_damocles]\n",
       "2. [1997.Amauris_hyalites_subsp_makuyensis equals 1995.Amauris_damocles_subsp_makuyensis]\n"
      ]
     },
     "execution_count": 55,
     "metadata": {},
     "output_type": "execute_result"
    }
   ],
   "source": [
    "print tap"
   ]
  }
 ],
 "metadata": {
  "kernelspec": {
   "display_name": "e3",
   "language": "e3",
   "name": "e3-kernel"
  },
  "language_info": {
   "codemirror_mode": "",
   "file_extension": ".py",
   "mimetype": "",
   "name": "e3",
   "nbconvert_exporter": "",
   "pygments_lexer": "",
   "version": "1.0"
  }
 },
 "nbformat": 4,
 "nbformat_minor": 2
}
