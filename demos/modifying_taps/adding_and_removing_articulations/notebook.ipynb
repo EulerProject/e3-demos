{
 "cells": [
  {
   "cell_type": "code",
   "execution_count": 1,
   "metadata": {
    "collapsed": false
   },
   "outputs": [
    {
     "data": {
      "text/plain": [
       "Tap: demo_butterflies (Note: 1997 has multiple roots (2))\n"
      ]
     },
     "execution_count": 1,
     "metadata": {},
     "output_type": "execute_result"
    }
   ],
   "source": [
    "se tap demo_butterflies"
   ]
  },
  {
   "cell_type": "code",
   "execution_count": 2,
   "metadata": {
    "collapsed": false
   },
   "outputs": [
    {
     "data": {
      "text/plain": [
       "Coverage:True\n",
       "Sibling Disjontness:True\n",
       "Regions:mnpw\n",
       "\n",
       "taxonomy 1997 D’Abrera\n",
       "(Amauris_hyalites Amauris_hyalites_subsp_hyalites Amauris_hyalites_subsp_makuyensis)\n",
       "(Amauris_damocles)\n",
       "\n",
       "taxonomy 1995 AckeryEtAl\n",
       "(Amauris_damocles Amauris_damocles_subsp_damocles Amauris_damocles_subsp_hyalites Amauris_damocles_subsp_makuyensis)\n",
       "\n",
       "articulation\n",
       "1. [1997.Amauris_damocles equals 1995.Amauris_damocles_subsp_damocles]\n",
       "2. [1997.Amauris_hyalites_subsp_makuyensis equals 1995.Amauris_damocles_subsp_makuyensis]\n",
       "3. [1997.Amauris_hyalites_subsp_hyalites is_included_in 1995.Amauris_damocles_subsp_hyalites]\n"
      ]
     },
     "execution_count": 2,
     "metadata": {},
     "output_type": "execute_result"
    }
   ],
   "source": [
    "print tap"
   ]
  },
  {
   "cell_type": "code",
   "execution_count": 3,
   "metadata": {
    "collapsed": false
   },
   "outputs": [
    {
     "data": {
      "text/plain": [
       "Tap: vigilant_volhard (Note: 1997 has multiple roots (2))\n"
      ]
     },
     "execution_count": 3,
     "metadata": {},
     "output_type": "execute_result"
    }
   ],
   "source": [
    "remove articulation 3"
   ]
  },
  {
   "cell_type": "code",
   "execution_count": 4,
   "metadata": {
    "collapsed": false
   },
   "outputs": [
    {
     "data": {
      "text/plain": [
       "Coverage:True\n",
       "Sibling Disjontness:True\n",
       "Regions:mnpw\n",
       "\n",
       "taxonomy 1997 D’Abrera\n",
       "(Amauris_hyalites Amauris_hyalites_subsp_hyalites Amauris_hyalites_subsp_makuyensis)\n",
       "(Amauris_damocles)\n",
       "\n",
       "taxonomy 1995 AckeryEtAl\n",
       "(Amauris_damocles Amauris_damocles_subsp_damocles Amauris_damocles_subsp_hyalites Amauris_damocles_subsp_makuyensis)\n",
       "\n",
       "articulation\n",
       "1. [1997.Amauris_damocles equals 1995.Amauris_damocles_subsp_damocles]\n",
       "2. [1997.Amauris_hyalites_subsp_makuyensis equals 1995.Amauris_damocles_subsp_makuyensis]\n"
      ]
     },
     "execution_count": 4,
     "metadata": {},
     "output_type": "execute_result"
    }
   ],
   "source": [
    "print tap"
   ]
  },
  {
   "cell_type": "code",
   "execution_count": 5,
   "metadata": {
    "collapsed": false
   },
   "outputs": [
    {
     "data": {
      "text/plain": [
       "Tap: laughing_ptolemy (Note: 1997 has multiple roots (2))\n"
      ]
     },
     "execution_count": 5,
     "metadata": {},
     "output_type": "execute_result"
    }
   ],
   "source": [
    "remove articulation 1997.Amauris_hyalites_subsp_makuyensis equals 1995.Amauris_damocles_subsp_makuyensis"
   ]
  },
  {
   "cell_type": "code",
   "execution_count": 6,
   "metadata": {
    "collapsed": false
   },
   "outputs": [
    {
     "data": {
      "text/plain": [
       "Coverage:True\n",
       "Sibling Disjontness:True\n",
       "Regions:mnpw\n",
       "\n",
       "taxonomy 1997 D’Abrera\n",
       "(Amauris_hyalites Amauris_hyalites_subsp_hyalites Amauris_hyalites_subsp_makuyensis)\n",
       "(Amauris_damocles)\n",
       "\n",
       "taxonomy 1995 AckeryEtAl\n",
       "(Amauris_damocles Amauris_damocles_subsp_damocles Amauris_damocles_subsp_hyalites Amauris_damocles_subsp_makuyensis)\n",
       "\n",
       "articulation\n",
       "1. [1997.Amauris_damocles equals 1995.Amauris_damocles_subsp_damocles]\n"
      ]
     },
     "execution_count": 6,
     "metadata": {},
     "output_type": "execute_result"
    }
   ],
   "source": [
    "print tap"
   ]
  },
  {
   "cell_type": "code",
   "execution_count": 7,
   "metadata": {
    "collapsed": false
   },
   "outputs": [
    {
     "data": {
      "text/plain": [
       "Tap: angry_almeida (Note: 1997 has multiple roots (2))\n"
      ]
     },
     "execution_count": 7,
     "metadata": {},
     "output_type": "execute_result"
    }
   ],
   "source": [
    "add articulation 1997.Amauris_hyalites_subsp_makuyensis includes 1995.Amauris_damocles_subsp_hyalites"
   ]
  },
  {
   "cell_type": "code",
   "execution_count": 8,
   "metadata": {
    "collapsed": false
   },
   "outputs": [
    {
     "data": {
      "text/plain": [
       "Coverage:True\n",
       "Sibling Disjontness:True\n",
       "Regions:mnpw\n",
       "\n",
       "taxonomy 1997 D’Abrera\n",
       "(Amauris_hyalites Amauris_hyalites_subsp_hyalites Amauris_hyalites_subsp_makuyensis)\n",
       "(Amauris_damocles)\n",
       "\n",
       "taxonomy 1995 AckeryEtAl\n",
       "(Amauris_damocles Amauris_damocles_subsp_damocles Amauris_damocles_subsp_hyalites Amauris_damocles_subsp_makuyensis)\n",
       "\n",
       "articulation\n",
       "1. [1997.Amauris_damocles equals 1995.Amauris_damocles_subsp_damocles]\n",
       "2. [1997.Amauris_hyalites_subsp_makuyensis includes 1995.Amauris_damocles_subsp_hyalites]\n"
      ]
     },
     "execution_count": 8,
     "metadata": {},
     "output_type": "execute_result"
    }
   ],
   "source": [
    "print tap"
   ]
  },
  {
   "cell_type": "code",
   "execution_count": 9,
   "metadata": {
    "collapsed": false
   },
   "outputs": [
    {
     "data": {
      "text/plain": [
       "Tap: brave_hodgkin (Invalid tap: underspecified. Note: 1997 has multiple roots (2))\n"
      ]
     },
     "execution_count": 9,
     "metadata": {},
     "output_type": "execute_result"
    }
   ],
   "source": [
    "clear articulations"
   ]
  },
  {
   "cell_type": "code",
   "execution_count": 10,
   "metadata": {
    "collapsed": false
   },
   "outputs": [
    {
     "data": {
      "text/plain": [
       "Coverage:True\n",
       "Sibling Disjontness:True\n",
       "Regions:mnpw\n",
       "\n",
       "taxonomy 1997 D’Abrera\n",
       "(Amauris_hyalites Amauris_hyalites_subsp_hyalites Amauris_hyalites_subsp_makuyensis)\n",
       "(Amauris_damocles)\n",
       "\n",
       "taxonomy 1995 AckeryEtAl\n",
       "(Amauris_damocles Amauris_damocles_subsp_damocles Amauris_damocles_subsp_hyalites Amauris_damocles_subsp_makuyensis)\n",
       "\n",
       "articulation\n"
      ]
     },
     "execution_count": 10,
     "metadata": {},
     "output_type": "execute_result"
    }
   ],
   "source": [
    "print tap"
   ]
  }
 ],
 "metadata": {
  "kernelspec": {
   "display_name": "e3",
   "language": "e3",
   "name": "e3-kernel"
  },
  "language_info": {
   "codemirror_mode": "",
   "file_extension": ".py",
   "mimetype": "",
   "name": "e3",
   "nbconvert_exporter": "",
   "pygments_lexer": "",
   "version": "1.0"
  }
 },
 "nbformat": 4,
 "nbformat_minor": 2
}
