{
 "cells": [
  {
   "cell_type": "code",
   "execution_count": 11,
   "metadata": {
    "collapsed": false
   },
   "outputs": [
    {
     "data": {
      "text/plain": [
       "Tap: demo_butterflies (Note: 1997 has multiple roots (2))\n"
      ]
     },
     "execution_count": 11,
     "metadata": {},
     "output_type": "execute_result"
    }
   ],
   "source": [
    "use tap demo_butterflies"
   ]
  },
  {
   "cell_type": "code",
   "execution_count": 12,
   "metadata": {
    "collapsed": false
   },
   "outputs": [
    {
     "data": {
      "text/plain": [
       "Coverage:True\n",
       "Sibling Disjontness:True\n",
       "Regions:mnpw\n",
       "\n",
       "taxonomy 1997 D’Abrera\n",
       "(Amauris_hyalites Amauris_hyalites_subsp_hyalites Amauris_hyalites_subsp_makuyensis)\n",
       "(Amauris_damocles)\n",
       "\n",
       "taxonomy 1995 AckeryEtAl\n",
       "(Amauris_damocles Amauris_damocles_subsp_damocles Amauris_damocles_subsp_hyalites Amauris_damocles_subsp_makuyensis)\n",
       "\n",
       "articulation\n",
       "1. [1997.Amauris_damocles equals 1995.Amauris_damocles_subsp_damocles]\n",
       "2. [1997.Amauris_hyalites_subsp_makuyensis equals 1995.Amauris_damocles_subsp_makuyensis]\n",
       "3. [1997.Amauris_hyalites_subsp_hyalites is_included_in 1995.Amauris_damocles_subsp_hyalites]\n"
      ]
     },
     "execution_count": 12,
     "metadata": {},
     "output_type": "execute_result"
    }
   ],
   "source": [
    "print tap"
   ]
  },
  {
   "cell_type": "code",
   "execution_count": 13,
   "metadata": {
    "collapsed": false
   },
   "outputs": [
    {
     "data": {
      "text/plain": [
       "Tap: jolly_kowalevski (Note: 1997 has multiple roots (2))\n"
      ]
     },
     "execution_count": 13,
     "metadata": {},
     "output_type": "execute_result"
    }
   ],
   "source": [
    "add concepts 1997 (Amauris_damocles Amauris_foo Amauris_bar FooBar)"
   ]
  },
  {
   "cell_type": "code",
   "execution_count": 14,
   "metadata": {
    "collapsed": false
   },
   "outputs": [
    {
     "data": {
      "text/plain": [
       "Coverage:True\n",
       "Sibling Disjontness:True\n",
       "Regions:mnpw\n",
       "\n",
       "taxonomy 1997 D’Abrera\n",
       "(Amauris_hyalites Amauris_hyalites_subsp_hyalites Amauris_hyalites_subsp_makuyensis)\n",
       "(Amauris_damocles Amauris_bar Amauris_foo FooBar)\n",
       "\n",
       "taxonomy 1995 AckeryEtAl\n",
       "(Amauris_damocles Amauris_damocles_subsp_damocles Amauris_damocles_subsp_hyalites Amauris_damocles_subsp_makuyensis)\n",
       "\n",
       "articulation\n",
       "1. [1997.Amauris_damocles equals 1995.Amauris_damocles_subsp_damocles]\n",
       "2. [1997.Amauris_hyalites_subsp_makuyensis equals 1995.Amauris_damocles_subsp_makuyensis]\n",
       "3. [1997.Amauris_hyalites_subsp_hyalites is_included_in 1995.Amauris_damocles_subsp_hyalites]\n"
      ]
     },
     "execution_count": 14,
     "metadata": {},
     "output_type": "execute_result"
    }
   ],
   "source": [
    "print tap"
   ]
  },
  {
   "cell_type": "code",
   "execution_count": 15,
   "metadata": {
    "collapsed": false
   },
   "outputs": [
    {
     "data": {
      "text/plain": [
       "Tap: sharp_fermi (Note: 1997 has multiple roots (3))\n"
      ]
     },
     "execution_count": 15,
     "metadata": {},
     "output_type": "execute_result"
    }
   ],
   "source": [
    "add concepts 1997 (MyRoot)"
   ]
  },
  {
   "cell_type": "code",
   "execution_count": 16,
   "metadata": {
    "collapsed": false
   },
   "outputs": [
    {
     "data": {
      "text/plain": [
       "Coverage:True\n",
       "Sibling Disjontness:True\n",
       "Regions:mnpw\n",
       "\n",
       "taxonomy 1997 D’Abrera\n",
       "(MyRoot)\n",
       "(Amauris_hyalites Amauris_hyalites_subsp_hyalites Amauris_hyalites_subsp_makuyensis)\n",
       "(Amauris_damocles Amauris_bar Amauris_foo FooBar)\n",
       "\n",
       "taxonomy 1995 AckeryEtAl\n",
       "(Amauris_damocles Amauris_damocles_subsp_damocles Amauris_damocles_subsp_hyalites Amauris_damocles_subsp_makuyensis)\n",
       "\n",
       "articulation\n",
       "1. [1997.Amauris_damocles equals 1995.Amauris_damocles_subsp_damocles]\n",
       "2. [1997.Amauris_hyalites_subsp_makuyensis equals 1995.Amauris_damocles_subsp_makuyensis]\n",
       "3. [1997.Amauris_hyalites_subsp_hyalites is_included_in 1995.Amauris_damocles_subsp_hyalites]\n"
      ]
     },
     "execution_count": 16,
     "metadata": {},
     "output_type": "execute_result"
    }
   ],
   "source": [
    "print tap"
   ]
  },
  {
   "cell_type": "code",
   "execution_count": 17,
   "metadata": {
    "collapsed": false
   },
   "outputs": [
    {
     "data": {
      "text/plain": [
       "Tap: lucid_meitner (Note: 1997 has multiple roots (3))\n"
      ]
     },
     "execution_count": 17,
     "metadata": {},
     "output_type": "execute_result"
    }
   ],
   "source": [
    "add concepts 1997 (Amauris_hyalites_subsp_makuyensis subsubspec1 subusbspec2)"
   ]
  },
  {
   "cell_type": "code",
   "execution_count": 18,
   "metadata": {
    "collapsed": false
   },
   "outputs": [
    {
     "data": {
      "text/plain": [
       "Coverage:True\n",
       "Sibling Disjontness:True\n",
       "Regions:mnpw\n",
       "\n",
       "taxonomy 1997 D’Abrera\n",
       "(MyRoot)\n",
       "(Amauris_hyalites Amauris_hyalites_subsp_hyalites Amauris_hyalites_subsp_makuyensis)\n",
       "(Amauris_hyalites_subsp_makuyensis subsubspec1 subusbspec2)\n",
       "(Amauris_damocles Amauris_bar Amauris_foo FooBar)\n",
       "\n",
       "taxonomy 1995 AckeryEtAl\n",
       "(Amauris_damocles Amauris_damocles_subsp_damocles Amauris_damocles_subsp_hyalites Amauris_damocles_subsp_makuyensis)\n",
       "\n",
       "articulation\n",
       "1. [1997.Amauris_damocles equals 1995.Amauris_damocles_subsp_damocles]\n",
       "2. [1997.Amauris_hyalites_subsp_makuyensis equals 1995.Amauris_damocles_subsp_makuyensis]\n",
       "3. [1997.Amauris_hyalites_subsp_hyalites is_included_in 1995.Amauris_damocles_subsp_hyalites]\n"
      ]
     },
     "execution_count": 18,
     "metadata": {},
     "output_type": "execute_result"
    }
   ],
   "source": [
    "print tap"
   ]
  },
  {
   "cell_type": "code",
   "execution_count": 19,
   "metadata": {
    "collapsed": false
   },
   "outputs": [
    {
     "data": {
      "text/plain": [
       "Tap: focused_ptolemy (Note: 1997 has multiple roots (3))\n"
      ]
     },
     "execution_count": 19,
     "metadata": {},
     "output_type": "execute_result"
    }
   ],
   "source": [
    "rename concept 1997 Amauris_damocles damocles"
   ]
  },
  {
   "cell_type": "code",
   "execution_count": 20,
   "metadata": {
    "collapsed": false
   },
   "outputs": [
    {
     "data": {
      "text/plain": [
       "Coverage:True\n",
       "Sibling Disjontness:True\n",
       "Regions:mnpw\n",
       "\n",
       "taxonomy 1997 D’Abrera\n",
       "(damocles Amauris_bar Amauris_foo FooBar)\n",
       "(MyRoot)\n",
       "(Amauris_hyalites Amauris_hyalites_subsp_hyalites Amauris_hyalites_subsp_makuyensis)\n",
       "(Amauris_hyalites_subsp_makuyensis subsubspec1 subusbspec2)\n",
       "\n",
       "taxonomy 1995 AckeryEtAl\n",
       "(Amauris_damocles Amauris_damocles_subsp_damocles Amauris_damocles_subsp_hyalites Amauris_damocles_subsp_makuyensis)\n",
       "\n",
       "articulation\n",
       "1. [1997.Amauris_hyalites_subsp_makuyensis equals 1995.Amauris_damocles_subsp_makuyensis]\n",
       "2. [1997.damocles equals 1995.Amauris_damocles_subsp_damocles]\n",
       "3. [1997.Amauris_hyalites_subsp_hyalites is_included_in 1995.Amauris_damocles_subsp_hyalites]\n"
      ]
     },
     "execution_count": 20,
     "metadata": {},
     "output_type": "execute_result"
    }
   ],
   "source": [
    "print tap"
   ]
  },
  {
   "cell_type": "code",
   "execution_count": 21,
   "metadata": {
    "collapsed": false
   },
   "outputs": [
    {
     "data": {
      "text/plain": [
       "Tap: sad_meninsky (Note: 1997 has multiple roots (3))\n"
      ]
     },
     "execution_count": 21,
     "metadata": {},
     "output_type": "execute_result"
    }
   ],
   "source": [
    "remove concepts 1995 (Amauris_damocles Amauris_damocles_subsp_damocles Amauris_damocles_subsp_makuyensis)"
   ]
  },
  {
   "cell_type": "code",
   "execution_count": 22,
   "metadata": {
    "collapsed": false
   },
   "outputs": [
    {
     "data": {
      "text/plain": [
       "Coverage:True\n",
       "Sibling Disjontness:True\n",
       "Regions:mnpw\n",
       "\n",
       "taxonomy 1997 D’Abrera\n",
       "(damocles Amauris_bar Amauris_foo FooBar)\n",
       "(MyRoot)\n",
       "(Amauris_hyalites Amauris_hyalites_subsp_hyalites Amauris_hyalites_subsp_makuyensis)\n",
       "(Amauris_hyalites_subsp_makuyensis subsubspec1 subusbspec2)\n",
       "\n",
       "taxonomy 1995 AckeryEtAl\n",
       "(Amauris_damocles Amauris_damocles_subsp_hyalites)\n",
       "\n",
       "articulation\n",
       "1. [1997.Amauris_hyalites_subsp_hyalites is_included_in 1995.Amauris_damocles_subsp_hyalites]\n"
      ]
     },
     "execution_count": 22,
     "metadata": {},
     "output_type": "execute_result"
    }
   ],
   "source": [
    "print tap"
   ]
  },
  {
   "cell_type": "code",
   "execution_count": 23,
   "metadata": {
    "collapsed": false
   },
   "outputs": [
    {
     "data": {
      "text/plain": [
       "Tap: hopeful_jones (Invalid tap: underspecified and 1997 not a dag)\n"
      ]
     },
     "execution_count": 23,
     "metadata": {},
     "output_type": "execute_result"
    }
   ],
   "source": [
    "clear taxonomy 1997"
   ]
  },
  {
   "cell_type": "code",
   "execution_count": 24,
   "metadata": {
    "collapsed": false
   },
   "outputs": [
    {
     "data": {
      "text/plain": [
       "Coverage:True\n",
       "Sibling Disjontness:True\n",
       "Regions:mnpw\n",
       "\n",
       "taxonomy 1997 D’Abrera\n",
       "\n",
       "taxonomy 1995 AckeryEtAl\n",
       "(Amauris_damocles Amauris_damocles_subsp_hyalites)\n",
       "\n",
       "articulation\n"
      ]
     },
     "execution_count": 24,
     "metadata": {},
     "output_type": "execute_result"
    }
   ],
   "source": [
    "print tap"
   ]
  }
 ],
 "metadata": {
  "kernelspec": {
   "display_name": "e3",
   "language": "e3",
   "name": "e3-kernel"
  },
  "language_info": {
   "codemirror_mode": "",
   "file_extension": ".py",
   "mimetype": "",
   "name": "e3",
   "nbconvert_exporter": "",
   "pygments_lexer": "",
   "version": "1.0"
  }
 },
 "nbformat": 4,
 "nbformat_minor": 2
}
