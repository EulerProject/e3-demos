{
 "cells": [
  {
   "cell_type": "code",
   "execution_count": 1,
   "metadata": {
    "collapsed": false
   },
   "outputs": [
    {
     "data": {
      "text/plain": [
       "Tap: serene_northcutt\n"
      ]
     },
     "execution_count": 1,
     "metadata": {},
     "output_type": "execute_result"
    }
   ],
   "source": [
    "load tap birds.txt"
   ]
  },
  {
   "cell_type": "code",
   "execution_count": 2,
   "metadata": {
    "collapsed": false
   },
   "outputs": [
    {
     "data": {
      "text/plain": [
       "Coverage:True\n",
       "Sibling Disjontness:True\n",
       "Regions:mnpw\n",
       "\n",
       "taxonomy 2015 Prum\n",
       "(Aves Gall_Neoa_Clade Palaeognathae)\n",
       "(Gall_Neoa_Clade Galloanserae Neoaves)\n",
       "\n",
       "taxonomy 2014 Jarvis\n",
       "(Aves Neognathae Paleognathae)\n",
       "(Paleognathae Struthioniformes Tinamiformes)\n",
       "\n",
       "articulation\n",
       "1. [2015.Gall_Neoa_Clade equals 2014.Neognathae]\n",
       "2. [2015.Galloanserae equals 2014.Struthioniformes]\n",
       "3. [2015.Aves is_included_in 2014.Aves]\n",
       "4. [2015.Palaeognathae is_included_in 2014.Paleognathae]\n"
      ]
     },
     "execution_count": 2,
     "metadata": {},
     "output_type": "execute_result"
    }
   ],
   "source": [
    "print tap"
   ]
  }
 ],
 "metadata": {
  "kernelspec": {
   "display_name": "e3",
   "language": "e3",
   "name": "e3-kernel"
  },
  "language_info": {
   "codemirror_mode": "",
   "file_extension": ".py",
   "mimetype": "",
   "name": "e3",
   "nbconvert_exporter": "",
   "pygments_lexer": "",
   "version": "1.0"
  }
 },
 "nbformat": 4,
 "nbformat_minor": 2
}
