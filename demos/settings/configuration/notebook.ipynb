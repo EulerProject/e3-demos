{
 "cells": [
  {
   "cell_type": "markdown",
   "metadata": {},
   "source": [
    "Here we demonstrate how you can view the configuration, set specific configuration values and reset all the configuration values to their default value.\n",
    "\n",
    "The configuration is stored in YAML format at <a href=\"./.e3/config\">./.e3/config</a> and can also be edited with a text editor."
   ]
  },
  {
   "cell_type": "code",
   "execution_count": 2,
   "metadata": {
    "collapsed": false
   },
   "outputs": [
    {
     "data": {
      "text/plain": [
       "cli behavior:\n",
       "  imageFormat: svg\n",
       "  maxWorldsToShow: 5\n",
       "  showOutputFileLocation: true\n",
       "environment:\n",
       "  euler2Executable: euler2\n",
       "  htmlViewer: euler2\n",
       "  imageViewer: euler2\n",
       "reasoning:\n",
       "  defaultIsCoverage: true\n",
       "  defaultIsSiblingDisjointness: true\n",
       "  defaultRegions: mnpw\n",
       "  reasoner: dlv\n",
       "  fixMethod: topdown\n",
       "sharing:\n",
       "  stateGitRepo:\n",
       "  workspaceGitRepo:\n",
       "\n"
      ]
     },
     "execution_count": 2,
     "metadata": {},
     "output_type": "execute_result"
    }
   ],
   "source": [
    "print config"
   ]
  },
  {
   "cell_type": "code",
   "execution_count": 3,
   "metadata": {
    "collapsed": false
   },
   "outputs": [
    {
     "data": {
      "text/plain": [
       "Configuration updated: workspaceGitRepo = http://github.com/EulerProject/e3-demos.git\n"
      ]
     },
     "execution_count": 3,
     "metadata": {},
     "output_type": "execute_result"
    }
   ],
   "source": [
    "set config workspaceGitRepo = http://github.com/EulerProject/e3-demos.git"
   ]
  },
  {
   "cell_type": "code",
   "execution_count": 4,
   "metadata": {
    "collapsed": false
   },
   "outputs": [
    {
     "data": {
      "text/plain": [
       "cli behavior:\n",
       "  imageFormat: svg\n",
       "  maxWorldsToShow: 5\n",
       "  showOutputFileLocation: true\n",
       "environment:\n",
       "  euler2Executable: euler2\n",
       "  htmlViewer: euler2\n",
       "  imageViewer: euler2\n",
       "reasoning:\n",
       "  defaultIsCoverage: true\n",
       "  defaultIsSiblingDisjointness: true\n",
       "  defaultRegions: mnpw\n",
       "  reasoner: dlv\n",
       "  fixMethod: topdown\n",
       "sharing:\n",
       "  stateGitRepo:\n",
       "  workspaceGitRepo: http://github.com/EulerProject/e3-demos.git\n",
       "\n"
      ]
     },
     "execution_count": 4,
     "metadata": {},
     "output_type": "execute_result"
    }
   ],
   "source": [
    "print config"
   ]
  },
  {
   "cell_type": "code",
   "execution_count": 5,
   "metadata": {
    "collapsed": false
   },
   "outputs": [
    {
     "data": {
      "text/plain": [
       "Reset config successfully\n"
      ]
     },
     "execution_count": 5,
     "metadata": {},
     "output_type": "execute_result"
    }
   ],
   "source": [
    "reset config"
   ]
  },
  {
   "cell_type": "code",
   "execution_count": 6,
   "metadata": {
    "collapsed": false
   },
   "outputs": [
    {
     "data": {
      "text/plain": [
       "cli behavior:\n",
       "  imageFormat: svg\n",
       "  maxWorldsToShow: 5\n",
       "  showOutputFileLocation: true\n",
       "environment:\n",
       "  euler2Executable: euler2\n",
       "  htmlViewer: euler2\n",
       "  imageViewer: euler2\n",
       "reasoning:\n",
       "  defaultIsCoverage: true\n",
       "  defaultIsSiblingDisjointness: true\n",
       "  defaultRegions: mnpw\n",
       "  reasoner: dlv\n",
       "  fixMethod: topdown\n",
       "sharing:\n",
       "  stateGitRepo:\n",
       "  workspaceGitRepo:\n",
       "\n"
      ]
     },
     "execution_count": 6,
     "metadata": {},
     "output_type": "execute_result"
    }
   ],
   "source": [
    "print config"
   ]
  }
 ],
 "metadata": {
  "kernelspec": {
   "display_name": "e3",
   "language": "e3",
   "name": "e3-kernel"
  },
  "language_info": {
   "codemirror_mode": "",
   "file_extension": ".py",
   "mimetype": "",
   "name": "e3",
   "nbconvert_exporter": "",
   "pygments_lexer": "",
   "version": "1.0"
  }
 },
 "nbformat": 4,
 "nbformat_minor": 2
}
